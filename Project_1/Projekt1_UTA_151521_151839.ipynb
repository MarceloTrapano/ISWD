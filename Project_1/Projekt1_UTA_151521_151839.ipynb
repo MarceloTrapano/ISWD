{
  "cells": [
    {
      "cell_type": "markdown",
      "metadata": {
        "id": "U877GvodNQr4"
      },
      "source": [
        "Inteligentne systemy wspomagania decyzji\n",
        "<br>\n",
        "Informatyka st. II, semestr 1\n",
        "<br>\n",
        "Projekt: 1\n",
        "<br>\n",
        "Temat: Zasada odpornej regresji porządkowej\n",
        "<br>\n",
        "Jakub Kondys, 151839\n",
        "<br>\n",
        "Kacper Dąbrowski, 151521"
      ]
    },
    {
      "cell_type": "markdown",
      "metadata": {},
      "source": [
        "Wariant KD: 14 oraz 25 inf pref: Wydajność produkcji energii elektrycznej wzrośnie w przyszłości. Dodatkowo nie\n",
        "chcę brać pożyczek.\n",
        "<br>\n",
        "Wariant JK: 13 oraz 16 inf pref: W skutek wyczerpywania się złóż materiałów radioaktywnych, elektrownie mogą\n",
        "zacząć korzystać z bardziej ubogich złóż, co przełoży się na zwiększenie ilości odpadów radioaktywnych.\n",
        "<br>\n",
        "Reszta wariantów:\n",
        "- 1 oraz 3\n",
        "- 17 oraz 27\n",
        "- 9 oraz 18\n",
        "\n",
        "Decydent musi podjąć trzy akcje dotyczące innych aspektów:\n",
        "- Czas składowania tymczasowego ($S_1,S_2,S_3$)\n",
        "    - $S_1$ - ILW(Intermediate Level Waste): 10, HLW(High Level Waste): 30\n",
        "    - $S_2$ - ILW:30, HLW: 30\n",
        "    - $S_3$ - ILW: 50, HLW: 50\n",
        "\n",
        "- Wybór miejsca składowania spośród ($R_1,R_2,R_3$)\n",
        "- Sposób finansowania ($F_1,F_2,F_3$)\n",
        "    - $F_1$ - Płatność za każdą wygenerowaną KWh\n",
        "    - $F_2$ - Bazuje na właściwości nielimitowanej odpowiedzialności osoby wytwarzającej odpady? Coś tam koszty\n",
        "    - $F_3$ - Płatność za wytwarzane odpady. Jest finansowane z pożyczki"
      ]
    },
    {
      "cell_type": "markdown",
      "metadata": {},
      "source": [
        "Dla informacji preferencji 1 $F_2$ jest najbardziej preferowany, jest też zgodny z wariantem 2 także git.\n",
        "\n",
        "Porównanie wariantów:\n",
        "- Wariant $14 > 25$\n",
        "- Wariant $13 ~ 16$"
      ]
    },
    {
      "cell_type": "code",
      "execution_count": 3,
      "metadata": {
        "id": "r8NwMFZ6NQsD"
      },
      "outputs": [],
      "source": [
        "import random\n",
        "import matplotlib.pyplot as plt\n",
        "import pandas as pd\n",
        "from pulp import LpProblem, LpVariable, LpMaximize, lpSum, value, LpStatus"
      ]
    },
    {
      "cell_type": "code",
      "execution_count": 10,
      "metadata": {},
      "outputs": [
        {
          "data": {
            "text/html": [
              "<div>\n",
              "<style scoped>\n",
              "    .dataframe tbody tr th:only-of-type {\n",
              "        vertical-align: middle;\n",
              "    }\n",
              "\n",
              "    .dataframe tbody tr th {\n",
              "        vertical-align: top;\n",
              "    }\n",
              "\n",
              "    .dataframe thead th {\n",
              "        text-align: right;\n",
              "    }\n",
              "</style>\n",
              "<table border=\"1\" class=\"dataframe\">\n",
              "  <thead>\n",
              "    <tr style=\"text-align: right;\">\n",
              "      <th></th>\n",
              "      <th>C1 Koszt</th>\n",
              "      <th>C2 Koszt</th>\n",
              "      <th>C3 Koszt</th>\n",
              "      <th>C4 Koszt</th>\n",
              "    </tr>\n",
              "  </thead>\n",
              "  <tbody>\n",
              "    <tr>\n",
              "      <th>1</th>\n",
              "      <td>0.60</td>\n",
              "      <td>0.93</td>\n",
              "      <td>0.00</td>\n",
              "      <td>0.73</td>\n",
              "    </tr>\n",
              "    <tr>\n",
              "      <th>2</th>\n",
              "      <td>0.66</td>\n",
              "      <td>0.55</td>\n",
              "      <td>0.45</td>\n",
              "      <td>0.49</td>\n",
              "    </tr>\n",
              "    <tr>\n",
              "      <th>3</th>\n",
              "      <td>1.00</td>\n",
              "      <td>0.45</td>\n",
              "      <td>0.57</td>\n",
              "      <td>0.50</td>\n",
              "    </tr>\n",
              "    <tr>\n",
              "      <th>4</th>\n",
              "      <td>0.48</td>\n",
              "      <td>0.87</td>\n",
              "      <td>0.00</td>\n",
              "      <td>0.75</td>\n",
              "    </tr>\n",
              "    <tr>\n",
              "      <th>5</th>\n",
              "      <td>0.62</td>\n",
              "      <td>0.40</td>\n",
              "      <td>0.56</td>\n",
              "      <td>0.50</td>\n",
              "    </tr>\n",
              "    <tr>\n",
              "      <th>6</th>\n",
              "      <td>0.78</td>\n",
              "      <td>0.27</td>\n",
              "      <td>0.71</td>\n",
              "      <td>0.50</td>\n",
              "    </tr>\n",
              "    <tr>\n",
              "      <th>7</th>\n",
              "      <td>0.40</td>\n",
              "      <td>0.90</td>\n",
              "      <td>0.00</td>\n",
              "      <td>0.82</td>\n",
              "    </tr>\n",
              "    <tr>\n",
              "      <th>8</th>\n",
              "      <td>0.64</td>\n",
              "      <td>0.44</td>\n",
              "      <td>0.54</td>\n",
              "      <td>0.54</td>\n",
              "    </tr>\n",
              "    <tr>\n",
              "      <th>9</th>\n",
              "      <td>0.65</td>\n",
              "      <td>0.30</td>\n",
              "      <td>0.71</td>\n",
              "      <td>0.55</td>\n",
              "    </tr>\n",
              "    <tr>\n",
              "      <th>10</th>\n",
              "      <td>0.45</td>\n",
              "      <td>0.86</td>\n",
              "      <td>0.00</td>\n",
              "      <td>0.73</td>\n",
              "    </tr>\n",
              "    <tr>\n",
              "      <th>11</th>\n",
              "      <td>0.61</td>\n",
              "      <td>0.54</td>\n",
              "      <td>0.38</td>\n",
              "      <td>0.49</td>\n",
              "    </tr>\n",
              "    <tr>\n",
              "      <th>12</th>\n",
              "      <td>0.74</td>\n",
              "      <td>0.25</td>\n",
              "      <td>0.80</td>\n",
              "      <td>0.49</td>\n",
              "    </tr>\n",
              "    <tr>\n",
              "      <th>13</th>\n",
              "      <td>0.48</td>\n",
              "      <td>0.97</td>\n",
              "      <td>0.00</td>\n",
              "      <td>0.91</td>\n",
              "    </tr>\n",
              "    <tr>\n",
              "      <th>14</th>\n",
              "      <td>0.69</td>\n",
              "      <td>0.49</td>\n",
              "      <td>0.56</td>\n",
              "      <td>0.61</td>\n",
              "    </tr>\n",
              "    <tr>\n",
              "      <th>15</th>\n",
              "      <td>0.87</td>\n",
              "      <td>0.03</td>\n",
              "      <td>1.00</td>\n",
              "      <td>0.61</td>\n",
              "    </tr>\n",
              "    <tr>\n",
              "      <th>16</th>\n",
              "      <td>0.44</td>\n",
              "      <td>0.95</td>\n",
              "      <td>0.00</td>\n",
              "      <td>0.90</td>\n",
              "    </tr>\n",
              "    <tr>\n",
              "      <th>17</th>\n",
              "      <td>0.68</td>\n",
              "      <td>0.40</td>\n",
              "      <td>0.65</td>\n",
              "      <td>0.60</td>\n",
              "    </tr>\n",
              "    <tr>\n",
              "      <th>18</th>\n",
              "      <td>0.76</td>\n",
              "      <td>0.06</td>\n",
              "      <td>1.00</td>\n",
              "      <td>0.60</td>\n",
              "    </tr>\n",
              "    <tr>\n",
              "      <th>19</th>\n",
              "      <td>0.35</td>\n",
              "      <td>0.91</td>\n",
              "      <td>0.00</td>\n",
              "      <td>0.98</td>\n",
              "    </tr>\n",
              "    <tr>\n",
              "      <th>20</th>\n",
              "      <td>0.64</td>\n",
              "      <td>0.22</td>\n",
              "      <td>0.81</td>\n",
              "      <td>0.65</td>\n",
              "    </tr>\n",
              "    <tr>\n",
              "      <th>21</th>\n",
              "      <td>0.83</td>\n",
              "      <td>0.25</td>\n",
              "      <td>0.80</td>\n",
              "      <td>0.65</td>\n",
              "    </tr>\n",
              "    <tr>\n",
              "      <th>22</th>\n",
              "      <td>0.32</td>\n",
              "      <td>0.83</td>\n",
              "      <td>0.00</td>\n",
              "      <td>0.94</td>\n",
              "    </tr>\n",
              "    <tr>\n",
              "      <th>23</th>\n",
              "      <td>0.59</td>\n",
              "      <td>0.24</td>\n",
              "      <td>0.70</td>\n",
              "      <td>0.63</td>\n",
              "    </tr>\n",
              "    <tr>\n",
              "      <th>24</th>\n",
              "      <td>0.73</td>\n",
              "      <td>0.03</td>\n",
              "      <td>1.00</td>\n",
              "      <td>0.63</td>\n",
              "    </tr>\n",
              "    <tr>\n",
              "      <th>25</th>\n",
              "      <td>0.34</td>\n",
              "      <td>1.00</td>\n",
              "      <td>1.00</td>\n",
              "      <td>1.00</td>\n",
              "    </tr>\n",
              "    <tr>\n",
              "      <th>26</th>\n",
              "      <td>0.71</td>\n",
              "      <td>0.25</td>\n",
              "      <td>0.88</td>\n",
              "      <td>0.67</td>\n",
              "    </tr>\n",
              "    <tr>\n",
              "      <th>27</th>\n",
              "      <td>0.80</td>\n",
              "      <td>0.06</td>\n",
              "      <td>1.00</td>\n",
              "      <td>0.67</td>\n",
              "    </tr>\n",
              "  </tbody>\n",
              "</table>\n",
              "</div>"
            ],
            "text/plain": [
              "    C1 Koszt  C2 Koszt  C3 Koszt  C4 Koszt\n",
              "1       0.60      0.93      0.00      0.73\n",
              "2       0.66      0.55      0.45      0.49\n",
              "3       1.00      0.45      0.57      0.50\n",
              "4       0.48      0.87      0.00      0.75\n",
              "5       0.62      0.40      0.56      0.50\n",
              "6       0.78      0.27      0.71      0.50\n",
              "7       0.40      0.90      0.00      0.82\n",
              "8       0.64      0.44      0.54      0.54\n",
              "9       0.65      0.30      0.71      0.55\n",
              "10      0.45      0.86      0.00      0.73\n",
              "11      0.61      0.54      0.38      0.49\n",
              "12      0.74      0.25      0.80      0.49\n",
              "13      0.48      0.97      0.00      0.91\n",
              "14      0.69      0.49      0.56      0.61\n",
              "15      0.87      0.03      1.00      0.61\n",
              "16      0.44      0.95      0.00      0.90\n",
              "17      0.68      0.40      0.65      0.60\n",
              "18      0.76      0.06      1.00      0.60\n",
              "19      0.35      0.91      0.00      0.98\n",
              "20      0.64      0.22      0.81      0.65\n",
              "21      0.83      0.25      0.80      0.65\n",
              "22      0.32      0.83      0.00      0.94\n",
              "23      0.59      0.24      0.70      0.63\n",
              "24      0.73      0.03      1.00      0.63\n",
              "25      0.34      1.00      1.00      1.00\n",
              "26      0.71      0.25      0.88      0.67\n",
              "27      0.80      0.06      1.00      0.67"
            ]
          },
          "execution_count": 10,
          "metadata": {},
          "output_type": "execute_result"
        }
      ],
      "source": [
        "df = pd.read_csv(\"Nuclear waste management.csv\", index_col=0)\n",
        "df.columns = [\"C1 Koszt\", \"C2 Koszt\", \"C3 Koszt\", \"C4 Koszt\"]\n",
        "df"
      ]
    },
    {
      "cell_type": "code",
      "execution_count": null,
      "metadata": {},
      "outputs": [],
      "source": []
    },
    {
      "cell_type": "markdown",
      "metadata": {
        "id": "o6c-ALIxNQsE"
      },
      "source": [
        "## Problem Formulation\n",
        "Let's consider a simple problem:\n",
        "\n",
        "Maximize: $$Z = 4x + 3y$$\n",
        "Subject to:\n",
        "$$2x + y \\leq 20$$\n",
        "$$x + y \\leq 12$$\n",
        "$$x, y \\geq 0$$"
      ]
    },
    {
      "cell_type": "code",
      "execution_count": 5,
      "metadata": {
        "id": "eRIRhOQZNQsF"
      },
      "outputs": [],
      "source": [
        "\n",
        "\n",
        "# Create a problem variable:\n",
        "prob = LpProblem(\"Maximize_the_profit_Z\", LpMaximize)\n",
        "\n",
        "# Create problem variables:\n",
        "x = LpVariable(\"x\", lowBound=0, upBound=None) # x>=0\n",
        "y = LpVariable(\"y\", lowBound=0, upBound=None) # y>=0\n"
      ]
    },
    {
      "cell_type": "markdown",
      "metadata": {
        "id": "gMewJ1LcNQsG"
      },
      "source": [
        "In linear programming problems, the objective function represents the quantity which needs to be minimized or maximized. It does not have constraints like `<=` or `>=`. On the other hand, constraints are the restrictions or limitations on the variables. They have a certain form based on the problem requirements, often represented with `<=`, `>=`, or `==`."
      ]
    },
    {
      "cell_type": "code",
      "execution_count": 6,
      "metadata": {
        "id": "YDhhgC6VNQsG"
      },
      "outputs": [],
      "source": [
        "\n",
        "# The objective function and constraints are added using the += operator to our model.\n",
        "# Objective function Z\n",
        "prob += 4*x + 3*y, \"Profit\"\n",
        "\n",
        "# Constraints\n",
        "prob += 2*x + y <= 20\n",
        "prob += x + y <= 12"
      ]
    },
    {
      "cell_type": "markdown",
      "metadata": {
        "id": "fut1GgVlNQsH"
      },
      "source": [
        "<b>Note: The names of variables or constraints must be unique and special characters must not appear, e.g. `=`,`<`,`>`."
      ]
    },
    {
      "cell_type": "code",
      "execution_count": 7,
      "metadata": {
        "id": "92ox4gAaNQsI",
        "outputId": "f46cbeb2-d8fe-48b6-91fc-e22982829e6f"
      },
      "outputs": [
        {
          "data": {
            "text/plain": [
              "Maximize_the_profit_Z:\n",
              "MAXIMIZE\n",
              "4*x + 3*y + 0\n",
              "SUBJECT TO\n",
              "_C1: 2 x + y <= 20\n",
              "\n",
              "_C2: x + y <= 12\n",
              "\n",
              "VARIABLES\n",
              "x Continuous\n",
              "y Continuous"
            ]
          },
          "execution_count": 7,
          "metadata": {},
          "output_type": "execute_result"
        }
      ],
      "source": [
        "# Problem\n",
        "prob"
      ]
    },
    {
      "cell_type": "code",
      "execution_count": 8,
      "metadata": {
        "id": "_enRGWAXNQsK",
        "outputId": "909ad7f0-2023-4bb9-b9ac-2d4d93be950e"
      },
      "outputs": [
        {
          "name": "stdout",
          "output_type": "stream",
          "text": [
            "Welcome to the CBC MILP Solver \n",
            "Version: 2.10.3 \n",
            "Build Date: Dec 15 2019 \n",
            "\n",
            "command line - /home/kacper/Pulpit/Programowanie Python/.venv/lib/python3.10/site-packages/pulp/solverdir/cbc/linux/64/cbc /tmp/af7ff78c923d41a096f6fbd5cfac999f-pulp.mps -max -timeMode elapsed -branch -printingOptions all -solution /tmp/af7ff78c923d41a096f6fbd5cfac999f-pulp.sol (default strategy 1)\n",
            "At line 2 NAME          MODEL\n",
            "At line 3 ROWS\n",
            "At line 7 COLUMNS\n",
            "At line 14 RHS\n",
            "At line 17 BOUNDS\n",
            "At line 18 ENDATA\n",
            "Problem MODEL has 2 rows, 2 columns and 4 elements\n",
            "Coin0008I MODEL read with 0 errors\n",
            "Option for timeMode changed from cpu to elapsed\n",
            "Presolve 2 (0) rows, 2 (0) columns and 4 (0) elements\n",
            "0  Obj -0 Dual inf 6.9999998 (2)\n",
            "0  Obj -0 Dual inf 6.9999998 (2)\n",
            "2  Obj 44\n",
            "Optimal - objective value 44\n",
            "Optimal objective 44 - 2 iterations time 0.002\n",
            "Option for printingOptions changed from normal to all\n",
            "Total time (CPU seconds):       0.00   (Wallclock seconds):       0.01\n",
            "\n",
            "Status: Optimal\n",
            "x = 8.0\n",
            "y = 4.0\n",
            "Total profit is:  44.0\n"
          ]
        }
      ],
      "source": [
        "# Solve the problem\n",
        "prob.solve()\n",
        "print(\"Status:\", LpStatus[prob.status])\n",
        "\n",
        "# Print the optimal production amount of x and y\n",
        "for v in prob.variables():\n",
        "    print(v.name, \"=\", v.varValue)\n",
        "\n",
        "# Print the optimal profit\n",
        "print(\"Total profit is: \", value(prob.objective))"
      ]
    },
    {
      "cell_type": "markdown",
      "metadata": {
        "id": "AZZPXQ6aNQsL"
      },
      "source": [
        "# Second Example: Solving a Knapsack Problem\n",
        "In this example, we will solve a knapsack problem. We have a set of items, each with a weight and a value, and we want to determine the number of each item to include in a collection so that the total weight is less than or equal to a given limit and the total value is as large as possible.\n",
        "\n",
        "Maximize:\n",
        "$$Z = 50x_1 + 100x_2 + 120x_3$$\n",
        "Subject to:\n",
        "$$10x_1 + 20x_2 + 30x_3 \\leq 50$$\n",
        "$$x_1, x_2, x_3  \\in \\{0,1\\}$$"
      ]
    },
    {
      "cell_type": "code",
      "execution_count": 9,
      "metadata": {
        "id": "R4Sx60o5NQsM"
      },
      "outputs": [],
      "source": [
        "# Create the 'prob' variable to contain the problem data\n",
        "prob = LpProblem(name=\"Knapsack_Problem\", sense=LpMaximize)\n",
        "\n",
        "# The 3 binary variables that can only take values of 0 or 1\n",
        "x1 = LpVariable(name=\"Item1\", cat='Binary')\n",
        "x2 = LpVariable(name=\"Item2\", cat='Binary')\n",
        "x3 = LpVariable(name=\"Item3\", cat='Binary')\n",
        "\n",
        "# The objective function is added to 'prob'\n",
        "prob += lpSum([50*x1, 100*x2, 120*x3]), \"Total Value of Items in Knapsack\"\n",
        "\n",
        "# Constraint\n",
        "prob += lpSum([10*x1, 20*x2, 30*x3]) <= 50, \"Total Weight of Items in Knapsack\""
      ]
    },
    {
      "cell_type": "code",
      "execution_count": 10,
      "metadata": {
        "id": "bQxMj7a8NQsN",
        "outputId": "4e0edd12-ff62-4df7-8b57-dabe3a145df1"
      },
      "outputs": [
        {
          "name": "stdout",
          "output_type": "stream",
          "text": [
            "Welcome to the CBC MILP Solver \n",
            "Version: 2.10.3 \n",
            "Build Date: Dec 15 2019 \n",
            "\n",
            "command line - /home/kacper/Pulpit/Programowanie Python/.venv/lib/python3.10/site-packages/pulp/solverdir/cbc/linux/64/cbc /tmp/0291088813a44cbb82536f21ee308abc-pulp.mps -max -timeMode elapsed -branch -printingOptions all -solution /tmp/0291088813a44cbb82536f21ee308abc-pulp.sol (default strategy 1)\n",
            "At line 2 NAME          MODEL\n",
            "At line 3 ROWS\n",
            "At line 6 COLUMNS\n",
            "At line 19 RHS\n",
            "At line 21 BOUNDS\n",
            "At line 25 ENDATA\n",
            "Problem MODEL has 1 rows, 3 columns and 3 elements\n",
            "Coin0008I MODEL read with 0 errors\n",
            "Option for timeMode changed from cpu to elapsed\n",
            "Continuous objective value is 230 - 0.00 seconds\n",
            "Cgl0003I 0 fixed, 0 tightened bounds, 1 strengthened rows, 0 substitutions\n",
            "Cgl0004I processed model has 1 rows, 3 columns (3 integer (3 of which binary)) and 3 elements\n",
            "Cutoff increment increased from 1e-05 to 9.9999\n",
            "Cbc0038I Initial state - 0 integers unsatisfied sum - 0\n",
            "Cbc0038I Solution found of -220\n",
            "Cbc0038I Before mini branch and bound, 3 integers at bound fixed and 0 continuous\n",
            "Cbc0038I Mini branch and bound did not improve solution (0.01 seconds)\n",
            "Cbc0038I After 0.01 seconds - Feasibility pump exiting with objective of -220 - took 0.00 seconds\n",
            "Cbc0012I Integer solution of -220 found by feasibility pump after 0 iterations and 0 nodes (0.01 seconds)\n",
            "Cbc0001I Search completed - best objective -220, took 0 iterations and 0 nodes (0.01 seconds)\n",
            "Cbc0035I Maximum depth 0, 0 variables fixed on reduced cost\n",
            "Cuts at root node changed objective from -220 to -220\n",
            "Probing was tried 0 times and created 0 cuts of which 0 were active after adding rounds of cuts (0.000 seconds)\n",
            "Gomory was tried 0 times and created 0 cuts of which 0 were active after adding rounds of cuts (0.000 seconds)\n",
            "Knapsack was tried 0 times and created 0 cuts of which 0 were active after adding rounds of cuts (0.000 seconds)\n",
            "Clique was tried 0 times and created 0 cuts of which 0 were active after adding rounds of cuts (0.000 seconds)\n",
            "MixedIntegerRounding2 was tried 0 times and created 0 cuts of which 0 were active after adding rounds of cuts (0.000 seconds)\n",
            "FlowCover was tried 0 times and created 0 cuts of which 0 were active after adding rounds of cuts (0.000 seconds)\n",
            "TwoMirCuts was tried 0 times and created 0 cuts of which 0 were active after adding rounds of cuts (0.000 seconds)\n",
            "ZeroHalf was tried 0 times and created 0 cuts of which 0 were active after adding rounds of cuts (0.000 seconds)\n",
            "\n",
            "Result - Optimal solution found\n",
            "\n",
            "Objective value:                220.00000000\n",
            "Enumerated nodes:               0\n",
            "Total iterations:               0\n",
            "Time (CPU seconds):             0.00\n",
            "Time (Wallclock seconds):       0.01\n",
            "\n",
            "Option for printingOptions changed from normal to all\n",
            "Total time (CPU seconds):       0.00   (Wallclock seconds):       0.01\n",
            "\n",
            "Status: Optimal\n",
            "Item1 = 0.0\n",
            "Item2 = 1.0\n",
            "Item3 = 1.0\n",
            "Total value of items in knapsack is:  220.0\n"
          ]
        }
      ],
      "source": [
        "# Solve the problem\n",
        "prob.solve()\n",
        "print(\"Status:\", LpStatus[prob.status])\n",
        "\n",
        "# Print the optimal solution\n",
        "for v in prob.variables():\n",
        "    print(v.name, \"=\", v.varValue)\n",
        "\n",
        "# Print the optimal total value\n",
        "print(\"Total value of items in knapsack is: \", value(prob.objective))"
      ]
    },
    {
      "cell_type": "markdown",
      "metadata": {
        "id": "CIewVyvMNQsN"
      },
      "source": [
        "# Third Example: Using Binary Variables as Switches\n",
        "In this example, we will use a binary variable as a switch to control whether certain constraints are active or not. This is a common technique in linear programming when we want to model conditional constraints.\n",
        "\n",
        "Maximize: $$Z = b_1 + b_2 + b_3$$\n",
        "Subject to:\n",
        "$$x + y + M(1-b_1) \\geq 50$$\n",
        "$$x + 2y + M b_1 \\leq 100$$\n",
        "$$3x + 2y + M(1-b_2) \\geq 50$$\n",
        "$$-x + 5y + M b_3 > 75$$\n",
        "$$x \\geq 0, x \\leq 8$$\n",
        "$$y \\geq 0$$\n",
        "$$b_1, b_2, b_3 \\in \\{0,1\\}$$"
      ]
    },
    {
      "cell_type": "code",
      "execution_count": 11,
      "metadata": {
        "id": "qIHHkdELNQsO"
      },
      "outputs": [],
      "source": [
        "prob = LpProblem(name=\"Switch_Problem\", sense=LpMaximize)\n",
        "\n",
        "# The variables are created\n",
        "x = LpVariable(name=\"x\", lowBound=0,upBound=8)\n",
        "y = LpVariable(name=\"y\", lowBound=0)\n",
        "b1 = LpVariable(name=\"b1\", cat='Binary')\n",
        "b2 = LpVariable(name=\"b2\", cat='Binary')\n",
        "b3 = LpVariable(name=\"b3\", cat='Binary')\n",
        "\n",
        "# The objective function is added to 'prob' first\n",
        "prob += lpSum([b1,b2,b3]), \"Total Value\"\n",
        "\n",
        "\n",
        "M = 1000  # A very large number\n",
        "eps = 0.00001# A very small number\n",
        "prob += lpSum([x, y]) + M*(1-b1)>= 50 , \"Weight constraint when b1 is 1\"\n",
        "prob += lpSum([x, 2*y]) + M*b1 <= 100 , \"Weight constraint when b1 is 0\"\n",
        "prob += lpSum([3*x, 2*y]) + M*(1-b2)>= 50 , \"Weight constraint when b2 is 1\"\n",
        "# It is not possible to model sharp inequalities `>` or `<` in solver,\n",
        "# in order to model them a small epsilon value is added artificially to the non-sharp equations.\n",
        "prob += lpSum([-x, 5*y]) + M*b3 >= 75+eps , \"Weight constraint when b3 is 0\"\n"
      ]
    },
    {
      "cell_type": "code",
      "execution_count": 12,
      "metadata": {
        "id": "recGHuQ_NQsO",
        "outputId": "f827aeea-9d37-4949-e6ef-4efa01b397f9"
      },
      "outputs": [
        {
          "name": "stdout",
          "output_type": "stream",
          "text": [
            "Welcome to the CBC MILP Solver \n",
            "Version: 2.10.3 \n",
            "Build Date: Dec 15 2019 \n",
            "\n",
            "command line - /home/kacper/Pulpit/Programowanie Python/.venv/lib/python3.10/site-packages/pulp/solverdir/cbc/linux/64/cbc /tmp/06b280f3a1214352aada6ec3af5b82f6-pulp.mps -max -timeMode elapsed -branch -printingOptions all -solution /tmp/06b280f3a1214352aada6ec3af5b82f6-pulp.sol (default strategy 1)\n",
            "At line 2 NAME          MODEL\n",
            "At line 3 ROWS\n",
            "At line 9 COLUMNS\n",
            "At line 31 RHS\n",
            "At line 36 BOUNDS\n",
            "At line 41 ENDATA\n",
            "Problem MODEL has 4 rows, 5 columns and 12 elements\n",
            "Coin0008I MODEL read with 0 errors\n",
            "Option for timeMode changed from cpu to elapsed\n",
            "Continuous objective value is 2.066 - 0.00 seconds\n",
            "Cgl0004I processed model has 2 rows, 3 columns (1 integer (1 of which binary)) and 5 elements\n",
            "Cutoff increment increased from 1e-05 to 0.9999\n",
            "Cbc0038I Initial state - 0 integers unsatisfied sum - 0\n",
            "Cbc0038I Solution found of -2\n",
            "Cbc0038I Relaxing continuous gives -2\n",
            "Cbc0038I Before mini branch and bound, 1 integers at bound fixed and 1 continuous\n",
            "Cbc0038I Mini branch and bound did not improve solution (0.00 seconds)\n",
            "Cbc0038I After 0.00 seconds - Feasibility pump exiting with objective of -2 - took 0.00 seconds\n",
            "Cbc0012I Integer solution of -2 found by feasibility pump after 0 iterations and 0 nodes (0.00 seconds)\n",
            "Cbc0001I Search completed - best objective -2, took 0 iterations and 0 nodes (0.00 seconds)\n",
            "Cbc0035I Maximum depth 0, 0 variables fixed on reduced cost\n",
            "Cuts at root node changed objective from -2 to -2\n",
            "Probing was tried 0 times and created 0 cuts of which 0 were active after adding rounds of cuts (0.000 seconds)\n",
            "Gomory was tried 0 times and created 0 cuts of which 0 were active after adding rounds of cuts (0.000 seconds)\n",
            "Knapsack was tried 0 times and created 0 cuts of which 0 were active after adding rounds of cuts (0.000 seconds)\n",
            "Clique was tried 0 times and created 0 cuts of which 0 were active after adding rounds of cuts (0.000 seconds)\n",
            "MixedIntegerRounding2 was tried 0 times and created 0 cuts of which 0 were active after adding rounds of cuts (0.000 seconds)\n",
            "FlowCover was tried 0 times and created 0 cuts of which 0 were active after adding rounds of cuts (0.000 seconds)\n",
            "TwoMirCuts was tried 0 times and created 0 cuts of which 0 were active after adding rounds of cuts (0.000 seconds)\n",
            "ZeroHalf was tried 0 times and created 0 cuts of which 0 were active after adding rounds of cuts (0.000 seconds)\n",
            "\n",
            "Result - Optimal solution found\n",
            "\n",
            "Objective value:                2.00000000\n",
            "Enumerated nodes:               0\n",
            "Total iterations:               0\n",
            "Time (CPU seconds):             0.00\n",
            "Time (Wallclock seconds):       0.00\n",
            "\n",
            "Option for printingOptions changed from normal to all\n",
            "Total time (CPU seconds):       0.00   (Wallclock seconds):       0.00\n",
            "\n",
            "Status: Optimal\n",
            "b1 = 0.0\n",
            "b2 = 1.0\n",
            "b3 = 1.0\n",
            "x = 8.0\n",
            "y = 13.0\n",
            "Total value is:  2.0\n"
          ]
        }
      ],
      "source": [
        "# Solve the problem\n",
        "prob.solve()\n",
        "print(\"Status:\", LpStatus[prob.status])\n",
        "\n",
        "# Print the optimal solution\n",
        "for v in prob.variables():\n",
        "    print(v.name, \"=\", v.varValue)\n",
        "\n",
        "# Print the optimal total value\n",
        "print(\"Total value is: \", value(prob.objective))"
      ]
    },
    {
      "cell_type": "markdown",
      "metadata": {
        "id": "FZGJjCpfNQsP"
      },
      "source": [
        "# Fourth example: A simplified version of the UTA method"
      ]
    },
    {
      "cell_type": "markdown",
      "metadata": {
        "id": "K6kDVmTsNQsP"
      },
      "source": [
        "The following is an example code solving the problem of ranking alternatives using the UTA method. Consider a problem with two competing criteria C_1 and C_2."
      ]
    },
    {
      "cell_type": "markdown",
      "metadata": {
        "id": "e5x3SMYcNQsQ"
      },
      "source": [
        "The following example demonstrates the application of the UTA method for ranking alternatives based on two competing criteria, $C_1$ and $C_2$.  \n",
        "\n",
        "- Criterion $C_1$ is evaluated using numerical values \\($[0, 25, 50, 75, 100]$ (0: least preferred, 100: most preferred)\\),\n",
        "\n",
        "- Criterion $C_2$ is assessed using qualitative ratings \\($['Bad', 'Poor', 'Neutral', 'Good', 'Excellent']$ ('Bad': worst, 'Excellent': best)\\).\n",
        "\n",
        "Both criteria are relevant, but their weights can not exceed $0.75$.\n",
        "\n",
        "In this example, four reference alternatives are randomly assigned values from the available criteria levels. In real-world applications, these values would be determined by a decision maker.\n",
        "\n",
        "Additionally, the decision maker provides preference information, stating that:\n",
        "-  $a_1 > a_2$\n",
        "-  $a_1 > a_3$\n",
        "-  $a_2 > a_4$\n",
        "\n",
        "The objective of this setup is not to optimize some objective function but rather to verify whether a system of equations satisfying these preferences has a feasible solution."
      ]
    },
    {
      "cell_type": "markdown",
      "metadata": {
        "id": "P4vno8vzNQsQ"
      },
      "source": [
        "Run this example several times and see that for some data sets there is a solution and for some the system of equations is contradictory."
      ]
    },
    {
      "cell_type": "code",
      "execution_count": 13,
      "metadata": {
        "id": "lZ6NYa_JNQsQ",
        "outputId": "e0376865-16f4-4561-e0e4-0130f9ae0c69"
      },
      "outputs": [
        {
          "name": "stdout",
          "output_type": "stream",
          "text": [
            "Welcome to the CBC MILP Solver \n",
            "Version: 2.10.3 \n",
            "Build Date: Dec 15 2019 \n",
            "\n",
            "command line - /home/kacper/Pulpit/Programowanie Python/.venv/lib/python3.10/site-packages/pulp/solverdir/cbc/linux/64/cbc /tmp/5623d6bf4d4b4ecba8a6639068a0b55e-pulp.mps -max -timeMode elapsed -branch -printingOptions all -solution /tmp/5623d6bf4d4b4ecba8a6639068a0b55e-pulp.sol (default strategy 1)\n",
            "At line 2 NAME          MODEL\n",
            "At line 3 ROWS\n",
            "At line 25 COLUMNS\n",
            "At line 67 RHS\n",
            "At line 88 BOUNDS\n",
            "At line 100 ENDATA\n",
            "Problem MODEL has 20 rows, 15 columns and 40 elements\n",
            "Coin0008I MODEL read with 0 errors\n",
            "Option for timeMode changed from cpu to elapsed\n",
            "Presolve determined that the problem was infeasible with tolerance of 1e-08\n",
            "Analysis indicates model infeasible or unbounded\n",
            "Perturbing problem by 0.001% of 1e-08 - largest nonzero change 0 ( 0%) - largest zero change 1.5904057e-08\n",
            "0  Obj -0 Primal inf 1.0299996 (4)\n",
            "10  Obj -2.1925082e-08 Primal inf 0.0199998 (2)\n",
            "Primal infeasible - objective value -2.1925082e-08\n",
            "PrimalInfeasible objective -2.192508236e-08 - 10 iterations time 0.002\n",
            "\n",
            "Result - Linear relaxation infeasible\n",
            "\n",
            "Enumerated nodes:           0\n",
            "Total iterations:           0\n",
            "Time (CPU seconds):         0.00\n",
            "Time (Wallclock Seconds):   0.00\n",
            "\n",
            "Option for printingOptions changed from normal to all\n",
            "Total time (CPU seconds):       0.00   (Wallclock seconds):       0.00\n",
            "\n",
            "Status: Infeasible\n",
            "\n",
            "Optimal Solution:\n",
            "Alternative1_Utility = 0.27\n",
            "Alternative2_Utility = 0.26\n",
            "Alternative3_Utility = 0.27\n",
            "Alternative4_Utility = 0.25\n",
            "__dummy = None\n",
            "criterion1_0 = 0.0\n",
            "criterion1_100 = 0.75\n",
            "criterion1_25 = 0.27\n",
            "criterion1_50 = 0.27\n",
            "criterion1_75 = 0.26\n",
            "criterion2_Bad = 0.0\n",
            "criterion2_Excellent = 0.25\n",
            "criterion2_Good = 0.0\n",
            "criterion2_Neutral = 0.0\n",
            "criterion2_Poor = 0.0\n",
            "\n",
            "Objective value: None\n"
          ]
        }
      ],
      "source": [
        "# Define criteria values\n",
        "criterion1_values = [0, 25, 50, 75, 100]\n",
        "criterion2_values = [\"Bad\", \"Poor\", \"Neutral\", \"Good\", \"Excellent\"]\n",
        "\n",
        "# Create LP problem\n",
        "prob = LpProblem(\"Simplified_UTA_Method\", LpMaximize)\n",
        "\n",
        "# Create decision variables for criteria\n",
        "criterion1_vars = {val: LpVariable(f\"criterion1_{val}\", lowBound=0, upBound=1) for val in criterion1_values}\n",
        "criterion2_vars = {val: LpVariable(f\"criterion2_{val}\", lowBound=0, upBound=1) for val in criterion2_values}\n",
        "\n",
        "# Monotonicity constraints\n",
        "for i in range(len(criterion1_values) - 1):\n",
        "    prob += criterion1_vars[criterion1_values[i]] <= criterion1_vars[criterion1_values[i + 1]], f\"Monotonicity_C1_{i}\"\n",
        "for i in range(len(criterion2_values) - 1):\n",
        "    prob += criterion2_vars[criterion2_values[i]] <= criterion2_vars[criterion2_values[i + 1]], f\"Monotonicity_C2_{i}\"\n",
        "\n",
        "# Normalization constraints\n",
        "prob += criterion1_vars[0] == 0, \"Normalize_C1_Lowest\"\n",
        "prob += criterion2_vars[\"Bad\"] == 0, \"Normalize_C2_Lowest\"\n",
        "prob += criterion1_vars[100] + criterion2_vars[\"Excellent\"] == 1, \"Normalize_Criteria_Sum\"\n",
        "\n",
        "# Weight constraints (not part of UTA but additional constraint)\n",
        "prob += criterion1_vars[100] <= 0.75, \"Weight_C1_Limit\"\n",
        "prob += criterion2_vars[\"Excellent\"] <= 0.75, \"Weight_C2_Limit\"\n",
        "\n",
        "# Define alternatives with random evaluations\n",
        "alternatives = {\n",
        "    f\"Alternative{i+1}\": {\n",
        "        \"C1\": random.choice(criterion1_values),\n",
        "        \"C2\": random.choice(criterion2_values)\n",
        "    }\n",
        "    for i in range(4)\n",
        "}\n",
        "\n",
        "# Create utility variables and constraints\n",
        "alternative_utilities = {}\n",
        "for name, evals in alternatives.items():\n",
        "    utility_var = LpVariable(f\"{name}_Utility\", lowBound=0)\n",
        "    alternative_utilities[name] = utility_var\n",
        "\n",
        "    # Sum of selected criteria variables defines utility\n",
        "    prob += utility_var == lpSum([criterion1_vars[evals[\"C1\"]], criterion2_vars[evals[\"C2\"]]]), f\"Utility_{name}\"\n",
        "\n",
        "# Preference constraints provided by the decision maker\n",
        "epsilon = 0.01 # Small value to ensure strict preference\n",
        "prob += alternative_utilities[\"Alternative1\"] >= alternative_utilities[\"Alternative2\"] + epsilon, \"Pref_A1_A2\"\n",
        "prob += alternative_utilities[\"Alternative1\"] >= alternative_utilities[\"Alternative3\"] + epsilon, \"Pref_A1_A3\"\n",
        "prob += alternative_utilities[\"Alternative2\"] >= alternative_utilities[\"Alternative4\"] + epsilon, \"Pref_A2_A4\"\n",
        "\n",
        "# No specific objective function; checking feasibility\n",
        "# You need to write your own objective function depending on the variant of the UTA method.\n",
        "\n",
        "prob += 0 # Placeholder objective function\n",
        "\n",
        "# Solve the problem\n",
        "prob.solve()\n",
        "\n",
        "# Print results\n",
        "print(f\"Status: {LpStatus[prob.status]}\")\n",
        "print(\"\\nOptimal Solution:\")\n",
        "for var in prob.variables():\n",
        "    print(f\"{var.name} = {value(var)}\")\n",
        "\n",
        "print(\"\\nObjective value:\", value(prob.objective))\n",
        "# In the results below, there is  __dummy = None which is a placeholder for the objective function."
      ]
    },
    {
      "cell_type": "code",
      "execution_count": 14,
      "metadata": {
        "id": "PvEtPxTuNQsR",
        "outputId": "1ff794c3-51bf-40aa-dffe-01d3996c7391"
      },
      "outputs": [
        {
          "data": {
            "image/png": "[encoded data removed]",
            "text/plain": [
              "<Figure size 800x600 with 1 Axes>"
            ]
          },
          "metadata": {},
          "output_type": "display_data"
        }
      ],
      "source": [
        "# This example demonstrates how to plot the partial utility function for criterion 1\n",
        "solver_values = [value(criterion1_vars[val]) for val in criterion1_values]\n",
        "\n",
        "plt.figure(figsize=(8, 6))\n",
        "plt.plot(criterion1_values, solver_values, marker='o', linestyle='-', color='b', label='$u(g_{C_1})$')\n",
        "plt.xlabel('$g_{C_1}$')\n",
        "plt.ylabel('$u(g_{C_1})$')\n",
        "plt.title('Plot of the partial utility function for criterion $C_1$')\n",
        "plt.xticks(criterion1_values)\n",
        "plt.grid(True)\n",
        "plt.show()\n"
      ]
    },
    {
      "cell_type": "code",
      "execution_count": null,
      "metadata": {
        "id": "_Zz-IqLMNQsR"
      },
      "outputs": [],
      "source": []
    }
  ],
  "metadata": {
    "colab": {
      "provenance": []
    },
    "kernelspec": {
      "display_name": ".venv",
      "language": "python",
      "name": "python3"
    },
    "language_info": {
      "codemirror_mode": {
        "name": "ipython",
        "version": 3
      },
      "file_extension": ".py",
      "mimetype": "text/x-python",
      "name": "python",
      "nbconvert_exporter": "python",
      "pygments_lexer": "ipython3",
      "version": "3.10.12"
    }
  },
  "nbformat": 4,
  "nbformat_minor": 0
}
