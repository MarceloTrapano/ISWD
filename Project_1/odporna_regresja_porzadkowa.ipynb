{
  "cells": [
    {
      "cell_type": "markdown",
      "metadata": {
        "id": "9Uc_E6nx62hS"
      },
      "source": [
        "Inteligentne Systemy Wspomagania Decyzji\\\n",
        "Odporna regresja porządkowa\\\n",
        "Informatyka, st. II, semestr 1\\\n",
        "Jakub Kondys, 151839\\\n",
        "Kacper Dąbrowski, 151521"
      ]
    },
    {
      "cell_type": "code",
      "execution_count": 1,
      "metadata": {
        "id": "9X7QSmPN60iU"
      },
      "outputs": [],
      "source": [
        "# import bibliotek\n",
        "import matplotlib.pyplot as plt\n",
        "from pulp import LpProblem, LpVariable, LpMaximize, lpSum, value, LpStatus, LpAffineExpression, LpMinimize\n",
        "from typing import Tuple, List\n",
        "import numpy as np # dla wygody miejscami"
      ]
    },
    {
      "cell_type": "markdown",
      "metadata": {
        "id": "1rhAHwxE60iW"
      },
      "source": [
        "### Wczytywanie danych\n",
        "Numeracja wariantów jak w pliku 0-26. Jednynie przy definicji problemu programowania liniowego numeracja 1-27, jak w pracy z której są."
      ]
    },
    {
      "cell_type": "code",
      "execution_count": 2,
      "metadata": {
        "colab": {
          "base_uri": "https://localhost:8080/"
        },
        "id": "IsdFUh0W60iX",
        "outputId": "83f19e4f-868c-445b-b9ba-b783ee544ee1"
      },
      "outputs": [
        {
          "data": {
            "text/plain": [
              "[(0, 0.6, 0.93, 0.0, 0.73),\n",
              " (1, 0.66, 0.55, 0.45, 0.49),\n",
              " (2, 1.0, 0.45, 0.57, 0.5),\n",
              " (3, 0.48, 0.87, 0.0, 0.75),\n",
              " '...',\n",
              " (23, 0.73, 0.03, 1.0, 0.63),\n",
              " (24, 0.34, 1.0, 1.0, 1.0),\n",
              " (25, 0.71, 0.25, 0.88, 0.67),\n",
              " (26, 0.8, 0.06, 1.0, 0.67)]"
            ]
          },
          "execution_count": 2,
          "metadata": {},
          "output_type": "execute_result"
        }
      ],
      "source": [
        "# wczytane wartości kryteriów z pliku\n",
        "data_file = \"Nuclear waste management.csv\"\n",
        "data = []\n",
        "\n",
        "with open(data_file, \"r\") as f:\n",
        "    f.readline() # pomiń nagłówek\n",
        "    for line in f:\n",
        "        nr, c1, c2, c3, c4 = line.strip().split(\",\")\n",
        "        data.append((int(nr) - 1, float(c1), float(c2), float(c3), float(c4)))\n",
        "data[:4] + [\"...\"] + data[-4:]"
      ]
    },
    {
      "cell_type": "markdown",
      "metadata": {
        "id": "wF41GQ4a60iY"
      },
      "source": [
        "#### Kryteria\n",
        "\n",
        "Kryterium 1 - całkowity koszt finansowy, kryterium typu koszt\\\n",
        "Kryterium 2/3 - finansowanie kosztu w okresie $(0, 30)/(30,\\infty)$ lat, kryterium typu zysk - chcemy by koszty się zwróciły\\\n",
        "Kryterium 4 - ryzyko poniesienia zbyt wielkich kosztów zanim będą one w stanie być sfinansowane, kryterium typu koszt - ryzyko z pewnością nie jest pozytywne"
      ]
    },
    {
      "cell_type": "markdown",
      "metadata": {
        "id": "-22akBKt60iY"
      },
      "source": [
        "#### Ranking referencyjny\n",
        "\n",
        "##### Informacja prefernecyjna na podstawie której oceniane były warianty:\n",
        "1. Pierwsza grupa: Wydajność produkcji energii elektrycznej wzrośnie w przyszłości. Dodatkowo nie\n",
        "chcę brać pożyczek. -> Preferujemy $F_1$ - większa wydajność w przyszlości, zatem więcej energii przy takiej samej ilości odpadów, bardzo nie chcemy $F_3$ - kredyt\n",
        "2. Druga grupa: W skutek wyczerpywania się złóż materiałów radioaktywnych, elektrownie mogą\n",
        "zacząć korzystać z bardziej ubogich złóż, co przełoży się na zwiększenie ilości odpadów radioak-\n",
        "tywnych. -> preferujemy $F_3$, i $F_2$ bardziej - opłata od ilości odpadów, chcemy też przechowywać krócej, żeby czasem magazyn się nie wypełnił całkowicie w przyszłośći przy większej ilości odpadów ($S_1>S_2>S_3$).\n",
        "3. Łącząc wyniki obu grup, preferujemy jak najkrótsze przechowywanie odpadów: $S_1>S_2>S_3$. Preferencje co do planów finansowania wybierzmy z pierwszej grupy - uznajmy, że zupełnie nie chcemy kredytu, a wydajność energii wzrośnie znacząco: $F_1>F_2>>F_3$. Brak informacji o preferencji lokalizacji, zatem: $R_1=R_2=R_3$.\n",
        "\n",
        "#### Ocena Wariantów\n",
        "Za pomocą powyższych preferencji, oceniono kolejno 2 pary wariantów, po 1 przydzielonym do osoby oraz 3 pary wariantów wybrane losowo - generator liczb losowych 0-26.\n",
        "\n",
        "Warianty 13, 16: $13\\sim16$, różnią się tylko lokalizacją\\\n",
        "Warianty 14, 25: $25>14$, 14 lepszy plan przechowywania odpadów, ale znacząco gorszy plan finansowy\\\n",
        "Warianty 9, 7:   $9\\sim7$, lepszy plan finansowy 9 jest niwelowany przez plan krótszego przechowywania odpadów 7\\\n",
        "Warianty 11, 18: $18>11$, o wiele lepszy plan finansowania\\\n",
        "Warianty 23, 6:  $6>23$, 6 to właściwie wariant idealny\n",
        "\n",
        "Mamy zatem 2 pary wariantów nierozróżnialnych i 3 pary wariantów w których jeden jest preferowany nad drugi."
      ]
    },
    {
      "cell_type": "code",
      "execution_count": 3,
      "metadata": {
        "id": "Z340vYjl60iY"
      },
      "outputs": [],
      "source": [
        "# nazwy kryteriów\n",
        "criterions = [\"C1\", \"C2\", \"C3\", \"C4\"]"
      ]
    },
    {
      "cell_type": "code",
      "execution_count": 4,
      "metadata": {
        "id": "EtH7zTdy60iY"
      },
      "outputs": [],
      "source": [
        "# definicja preferencji i parametrów metody dla konkretnego przykładu\n",
        "indiff_variants = [(13, 16), (9, 7)] # (x, y) -> x~y, nierozróżnialne\n",
        "pref_variants = [(25, 14), (18, 11), (6, 23)] # (x, y) -> x>y, preferencje\n",
        "criterion_directions = [\"cost\", \"gain\", \"gain\", \"cost\"]\n",
        "# od 0 do 1 bo wiemy, że dane są znormalizowane do przedziału [0, 1]\n",
        "# dla liczenia min i max z danych jak w poniższych komentarzach wyniki praktycznie identyczne - zarówno UTA jak i UTAGMS\n",
        "# datanp = np.array(data)[:, 1:] # data numpy bez numerów wariantów\n",
        "# min_values = np.min(datanp, axis=0) # minimalne wartości kryteriów\n",
        "# max_values = np.max(datanp, axis=0) # maksymalne wartości kryteriów\n",
        "min_values = [0, 0, 0, 0] # minimalne wartości kryteriów\n",
        "max_values = [1, 1, 1, 1] # maksymalne wartości kryteriów\n",
        "number_breaks = [1, 1, 1, 1] # liczba punktów przełamania dla funkcji liniowej dla każdego kryterium\n",
        "eps = 0.001 # mała liczba do ograniczeń nierozróżnialności, o tyle mogą się różnić użyteczności wariantów by stwierdzenie x~y było prawdziwe"
      ]
    },
    {
      "cell_type": "code",
      "execution_count": 5,
      "metadata": {
        "id": "oMUBToU860iZ"
      },
      "outputs": [],
      "source": [
        "def add_monotonicity_constraints(prob: LpProblem, breakpoints: List[float]) -> Tuple[LpProblem, List[List[LpVariable]], List[LpVariable], List[LpVariable]]:\n",
        "    u_a = [] # zmienne u_i(a_i), gdzie a_i to najgorsza wartość kryterium i\n",
        "    u_b = [] # zmienne u_i(b_i), gdzie b_i to najlepsza wartość kryterium i\n",
        "    u_breakpoints = [] # macierz ixj zmienne u_i(x_i^j), gdzie x_i^j to j-ty punkt przełamania dla kryterium i\n",
        "\n",
        "    # ograniczenia monotoniczności\n",
        "    for i, dir in enumerate(criterion_directions):\n",
        "        u_bp = []\n",
        "        for j, bp in enumerate(breakpoints[i]):\n",
        "            u_bp.append(LpVariable(name=f\"u_{i+1}({bp})\", lowBound=0, upBound=1)) # zmienne u_i(x_i^j) wyrażające użyteczność dla każdego kryterium i punktu przełamania\n",
        "\n",
        "        # dodanie ograniczeń monotoniczności\n",
        "        if dir == \"gain\":\n",
        "            for j in range(len(u_bp) - 1):\n",
        "                # im większa wartość na kryterium tym większa użyteczność\n",
        "                prob += u_bp[j] <= u_bp[j + 1], f\"Monotonicity_{criterions[i]}_{j}\"\n",
        "            u_a.append(u_bp[0])\n",
        "            u_b.append(u_bp[-1])\n",
        "        else:\n",
        "            for j in range(len(u_bp) - 1):\n",
        "                # im większa wartość na kryterium tym mniejsza użyteczność\n",
        "                prob += u_bp[j] >= u_bp[j + 1], f\"Monotonicity_{criterions[i]}_{j}\"\n",
        "            u_a.append(u_bp[-1])\n",
        "            u_b.append(u_bp[0])\n",
        "        u_breakpoints.append(u_bp)\n",
        "    return prob, u_breakpoints, u_a, u_b"
      ]
    },
    {
      "cell_type": "code",
      "execution_count": 6,
      "metadata": {
        "id": "5dqMvrgv60iZ"
      },
      "outputs": [],
      "source": [
        "def add_normalization_constraints(prob: LpProblem, u_a: List[LpVariable], u_b: List[LpVariable]) -> LpProblem:\n",
        "    # suma nalepszych wartości użyteczności = 1\n",
        "    prob += lpSum(u_b) == 1, \"Sum_of_u_b=1\"\n",
        "    # najgorsze użyteczności = 0\n",
        "    for i, ua in enumerate(u_a):\n",
        "        prob += ua == 0, f\"u_a_{i+1}=0\"\n",
        "    return prob"
      ]
    },
    {
      "cell_type": "code",
      "execution_count": 7,
      "metadata": {
        "id": "-8CoKloJ60iZ"
      },
      "outputs": [],
      "source": [
        "def calculate_variant_utility(nr: int, u_breakpoints: List[List[LpVariable]], breakpoints: List[float]) -> Tuple[LpAffineExpression, List[LpVariable]]:\n",
        "    local_utilities = []\n",
        "    for i, bp in enumerate(breakpoints):\n",
        "        u_bp = u_breakpoints[i] # zmienne użyteczności dla punktów przłamania (breakpoints) na kryterium i\n",
        "        diff = diffs[i] / (len(breakpoints[i]) - 1) # różnica wartości kryterium między punktami kolejnymi przełamania\n",
        "        val_c = data[nr][i + 1] # wartość kryterium i dla wariantu nr\n",
        "\n",
        "        for j in range(len(bp) - 1):\n",
        "            if val_c < bp[j + 1]:\n",
        "                break\n",
        "        # (j, j+1) - numery punktów przełamania między którymi należy obliczyć interpolację\n",
        "        start = j\n",
        "        end = j + 1\n",
        "        # użyteczność na kryterium to użyteczność w początkowym punkcie przełamania + interpolacja liniowa między punktami przełamania\n",
        "        if val_c == bp[j]: # jeśli wartość kryterium jest równa punktowi przełamania to użyteczność jest równa użyteczności w tym punkcie - nie trzeba interpolować\n",
        "            local_utilities.append(u_bp[start])\n",
        "        else:\n",
        "            local_utilities.append(u_bp[start] + (val_c - bp[start]) * (u_bp[end] - u_bp[start]) / diff)\n",
        "    return lpSum(local_utilities), local_utilities # globalna użyteczność wariantu to suma lokalnych użyteczności\n"
      ]
    },
    {
      "cell_type": "code",
      "execution_count": 8,
      "metadata": {
        "id": "e6s_9WMy60iZ"
      },
      "outputs": [],
      "source": [
        "# po to by wygodnie mieć dostęp do zmiennych globalnych użyteczności wariantów, dodadkowo lokalne użyteczności wariantów\n",
        "def vars_utilities(prob: LpProblem, u_breakpoints: List[List[LpVariable]], breakpoints: List[float]) -> Tuple[LpProblem, List[LpVariable], List[List[LpVariable]]]:\n",
        "    global_utilities = []\n",
        "    local_utilities = []\n",
        "    # dla każdego wariantu dodajemy zmienną globalnej użyteczności\n",
        "    # oraz ograniczenie wyrażające ją jako sumę lokalnych użyteczności\n",
        "    for i in range(len(data)):\n",
        "        global_utilities.append(LpVariable(name=f\"U_x{i+1}\")) # ograniczenia na przedział [0, 1] niepotrzebne, bo wymuszone przez inne ograniczenia\n",
        "        g_util, l_utils = calculate_variant_utility(i, u_breakpoints, breakpoints)\n",
        "        local_utilities.append(l_utils)\n",
        "        prob += global_utilities[i] == g_util, f\"Global_utility_x{i+1}\"\n",
        "    return prob, global_utilities, local_utilities"
      ]
    },
    {
      "cell_type": "code",
      "execution_count": 9,
      "metadata": {
        "id": "zGLGzIyd60ia"
      },
      "outputs": [],
      "source": [
        "number_breakpoints = [x + 2 for x in number_breaks] # to co wyżej plus minimum i maksimum\n",
        "diffs = [max_val - min_val for min_val, max_val in zip(min_values, max_values)] # różnice między wartościami maksymalnymi i minimalnymi dla każdego kryterium\n",
        "breakpoints = []\n",
        "\n",
        "for j, nb in enumerate(number_breakpoints):\n",
        "    bp = []\n",
        "    for i in range(nb):\n",
        "        bp.append(min_values[j] + i * diffs[j] / (nb - 1)) # punkty przełamania dla funkcji liniowej na kryterium j\n",
        "    breakpoints.append(tuple(bp))\n",
        "\n",
        "# breakpoints"
      ]
    },
    {
      "cell_type": "markdown",
      "metadata": {
        "id": "FTvLd-tE60ia"
      },
      "source": [
        "# UTA"
      ]
    },
    {
      "cell_type": "markdown",
      "metadata": {
        "id": "nxFHbc9-60ia"
      },
      "source": [
        "## Definicja problemu\n",
        "\n",
        "Problem jest zdefiniowany następująco:\n",
        "$$\\max \\quad \\varepsilon$$\n",
        "Ograniczenia preferencji:\n",
        "$$U(x_{26})\\ge U(x_{15}) + \\varepsilon$$\n",
        "$$U(x_{19})\\ge U(x_{12}) + \\varepsilon$$\n",
        "$$U(x_{7})\\ge U(x_{24}) + \\varepsilon$$\n",
        "$$U(x_{14})= U(x_{17})$$\n",
        "$$U(x_{10})= U(x_{8})$$\n",
        "Ograniczenia monotoniczności:\n",
        "$$u_{C_1}(1) < u_{C_1}(0.5) < u_{C_1}(0)$$\n",
        "$$u_{C_2}(0) < u_{C_2}(0.5) < u_{C_2}(1)$$\n",
        "$$u_{C_3}(0) < u_{C_3}(0.5) < u_{C_3}(1)$$\n",
        "$$u_{C_4}(1) < u_{C_4}(0.5) < u_{C_4}(0)$$\n",
        "Ograniczenia normalizacji:\n",
        "$$u_{C_1}(0) + u_{C_2}(1) + u_{C_3}(1) + u_{C_4}(0) = 1$$\n",
        "$$u_{C_1}(1) = 0$$\n",
        "$$u_{C_2}(0) = 0$$\n",
        "$$u_{C_3}(0) = 0$$\n",
        "$$u_{C_4}(1) = 0$$\n",
        "Oprócz wszystkich wymaganych w UTA ograniczeń dodano ograniczenie na maksymalną użyteczność każdego kryterium, która powinna wynosić co najmniej 0.1 (treść zadania). Czyli $$ \\sum_{i=1}^{n}u_i\\left(\\beta_i\\right) \\ge 0.1$$ gdzie $\\beta_i$ to naljepsza wartość na kryterium $i$"
      ]
    },
    {
      "cell_type": "code",
      "execution_count": 10,
      "metadata": {
        "id": "X7YhplxP60ia"
      },
      "outputs": [],
      "source": [
        "prob = LpProblem(\"UTA\", LpMaximize)\n",
        "epsilon = LpVariable(\"epsilon\", lowBound=None, upBound=None) # maksymalizowana zmienna\n",
        "\n",
        "u_a = None # tablica zmiennych u_i(a_i), gdzie a_i to najgorsza wartość kryterium i\n",
        "u_b = None # tablica zmiennych u_i(b_i), gdzie b_i to najlepsza wartość kryterium i\n",
        "u_breakpoints = None # macierz ixj zmienne u_i(x_i^j), gdzie x_i^j to j-ty punkt przełamania dla kryterium i\n",
        "global_utilities = None # tablica użyteczności globalnych dla każdego wariantu\n",
        "local_utitlites = None # macierz ixj użyteczności lokalnych dla każdego wariantu i oraz kryterium j\n",
        "\n",
        "# funkcja celu\n",
        "prob += epsilon, \"Maximize_epsilon\" # maksymalizowana zmienna epsilon + suma najgorszych użyteczności\n",
        "\n",
        "# ograniczenia monotoniczności\n",
        "prob, u_breakpoints, u_a, u_b = add_monotonicity_constraints(prob, breakpoints)\n",
        "\n",
        "# ograniczenia normalizacji\n",
        "prob = add_normalization_constraints(prob, u_a, u_b)\n",
        "\n",
        "# ograniczenia wynikające z preferencji decydenta\n",
        "\n",
        "# ograniczenia preferencji\n",
        "prob, global_utilities, local_utitlites = vars_utilities(prob, u_breakpoints, breakpoints) # zmienne globalnych użyteczności dla każdego wariantu\n",
        "for i, (x, y) in enumerate(pref_variants):\n",
        "    prob += global_utilities[x] >= global_utilities[y] + epsilon, f\"Preference_{x+1}_over{y+1}\" # x>y\n",
        "\n",
        "# ograniczenia nierozróżnialności\n",
        "for i, (x, y) in enumerate(indiff_variants):\n",
        "    # nie wiem czy == zadziała dobrze z epsilonem w pulpie, więc używam po prostu 2 relacje, przynajmniej widać co się dzieje\n",
        "    prob += global_utilities[x] - global_utilities[y] <= eps, f\"Indifference_{x+1}_over{y+1}_1\" # x~y\n",
        "    prob += global_utilities[x] - global_utilities[y] >= -eps, f\"Indifference_{y+1}_over{x+1}_2\" # y~x\n",
        "\n",
        "# ograniczenie wynikające z zadania\n",
        "for i, ub in enumerate(u_b):\n",
        "    prob += ub >= 0.1, f\"u_{i+1}_b>=0.1\"\n",
        "\n",
        "# prob"
      ]
    },
    {
      "cell_type": "markdown",
      "metadata": {
        "id": "pt_-yNgE60ib"
      },
      "source": [
        "##### Czy problem rozwiązywalny i wartość funkcji celu"
      ]
    },
    {
      "cell_type": "code",
      "execution_count": 11,
      "metadata": {
        "id": "iCDdX9bK60ib",
        "outputId": "23d8a3d1-ebd1-46d1-e896-b1b35b9cf854"
      },
      "outputs": [
        {
          "name": "stdout",
          "output_type": "stream",
          "text": [
            "Status: Optimal\n",
            "\n",
            "Objective value: 0.15004762\n"
          ]
        }
      ],
      "source": [
        "prob.solve()\n",
        "\n",
        "# Print results\n",
        "print(f\"Status: {LpStatus[prob.status]}\")\n",
        "# print(\"\\nOptimal Solution:\")\n",
        "# for var in prob.variables():\n",
        "#     print(f\"{var.name} = {value(var)}\")\n",
        "\n",
        "print(\"\\nObjective value:\", value(prob.objective))"
      ]
    },
    {
      "cell_type": "markdown",
      "metadata": {
        "id": "iP53Te1E60ib"
      },
      "source": [
        "#### Użyteczności cząstkowe i globalne wszystkich wariantów"
      ]
    },
    {
      "cell_type": "code",
      "execution_count": 12,
      "metadata": {
        "id": "OysJjmI660ib"
      },
      "outputs": [],
      "source": [
        "# importy do wykresów\n",
        "import pandas as pd # wyświetlanie wyników w formie tabeli"
      ]
    },
    {
      "cell_type": "code",
      "execution_count": 13,
      "metadata": {
        "id": "yBQTGSY560ib",
        "outputId": "e669defb-6755-4dcb-99a7-cd441bd3fff6"
      },
      "outputs": [
        {
          "data": {
            "text/html": [
              "<div>\n",
              "<style scoped>\n",
              "    .dataframe tbody tr th:only-of-type {\n",
              "        vertical-align: middle;\n",
              "    }\n",
              "\n",
              "    .dataframe tbody tr th {\n",
              "        vertical-align: top;\n",
              "    }\n",
              "\n",
              "    .dataframe thead th {\n",
              "        text-align: right;\n",
              "    }\n",
              "</style>\n",
              "<table border=\"1\" class=\"dataframe\">\n",
              "  <thead>\n",
              "    <tr style=\"text-align: right;\">\n",
              "      <th>Kryteria</th>\n",
              "      <th>u_1</th>\n",
              "      <th>u_2</th>\n",
              "      <th>u_3</th>\n",
              "      <th>u_4</th>\n",
              "      <th>U</th>\n",
              "    </tr>\n",
              "    <tr>\n",
              "      <th>Warianty</th>\n",
              "      <th></th>\n",
              "      <th></th>\n",
              "      <th></th>\n",
              "      <th></th>\n",
              "      <th></th>\n",
              "    </tr>\n",
              "  </thead>\n",
              "  <tbody>\n",
              "    <tr>\n",
              "      <th>x_1</th>\n",
              "      <td>0.482857</td>\n",
              "      <td>0.096167</td>\n",
              "      <td>0.000000</td>\n",
              "      <td>0.000</td>\n",
              "      <td>0.579024</td>\n",
              "    </tr>\n",
              "    <tr>\n",
              "      <th>x_2</th>\n",
              "      <td>0.410429</td>\n",
              "      <td>0.075357</td>\n",
              "      <td>0.176786</td>\n",
              "      <td>0.002</td>\n",
              "      <td>0.664571</td>\n",
              "    </tr>\n",
              "    <tr>\n",
              "      <th>x_3</th>\n",
              "      <td>0.000000</td>\n",
              "      <td>0.065357</td>\n",
              "      <td>0.196429</td>\n",
              "      <td>0.000</td>\n",
              "      <td>0.261786</td>\n",
              "    </tr>\n",
              "    <tr>\n",
              "      <th>x_4</th>\n",
              "      <td>0.603571</td>\n",
              "      <td>0.092881</td>\n",
              "      <td>0.000000</td>\n",
              "      <td>0.000</td>\n",
              "      <td>0.696452</td>\n",
              "    </tr>\n",
              "    <tr>\n",
              "      <th>x_5</th>\n",
              "      <td>0.458714</td>\n",
              "      <td>0.058095</td>\n",
              "      <td>0.196429</td>\n",
              "      <td>0.000</td>\n",
              "      <td>0.713238</td>\n",
              "    </tr>\n",
              "    <tr>\n",
              "      <th>x_6</th>\n",
              "      <td>0.265571</td>\n",
              "      <td>0.039214</td>\n",
              "      <td>0.196429</td>\n",
              "      <td>0.000</td>\n",
              "      <td>0.501214</td>\n",
              "    </tr>\n",
              "    <tr>\n",
              "      <th>x_7</th>\n",
              "      <td>0.603571</td>\n",
              "      <td>0.094524</td>\n",
              "      <td>0.000000</td>\n",
              "      <td>0.000</td>\n",
              "      <td>0.698095</td>\n",
              "    </tr>\n",
              "    <tr>\n",
              "      <th>x_8</th>\n",
              "      <td>0.434571</td>\n",
              "      <td>0.063905</td>\n",
              "      <td>0.196429</td>\n",
              "      <td>0.000</td>\n",
              "      <td>0.694905</td>\n",
              "    </tr>\n",
              "    <tr>\n",
              "      <th>x_9</th>\n",
              "      <td>0.422500</td>\n",
              "      <td>0.043571</td>\n",
              "      <td>0.196429</td>\n",
              "      <td>0.000</td>\n",
              "      <td>0.662500</td>\n",
              "    </tr>\n",
              "    <tr>\n",
              "      <th>x_10</th>\n",
              "      <td>0.603571</td>\n",
              "      <td>0.092333</td>\n",
              "      <td>0.000000</td>\n",
              "      <td>0.000</td>\n",
              "      <td>0.695905</td>\n",
              "    </tr>\n",
              "    <tr>\n",
              "      <th>x_11</th>\n",
              "      <td>0.470786</td>\n",
              "      <td>0.074810</td>\n",
              "      <td>0.149286</td>\n",
              "      <td>0.002</td>\n",
              "      <td>0.696881</td>\n",
              "    </tr>\n",
              "    <tr>\n",
              "      <th>x_12</th>\n",
              "      <td>0.313857</td>\n",
              "      <td>0.036310</td>\n",
              "      <td>0.196429</td>\n",
              "      <td>0.002</td>\n",
              "      <td>0.548595</td>\n",
              "    </tr>\n",
              "    <tr>\n",
              "      <th>x_13</th>\n",
              "      <td>0.603571</td>\n",
              "      <td>0.098357</td>\n",
              "      <td>0.000000</td>\n",
              "      <td>0.000</td>\n",
              "      <td>0.701929</td>\n",
              "    </tr>\n",
              "    <tr>\n",
              "      <th>x_14</th>\n",
              "      <td>0.374214</td>\n",
              "      <td>0.071167</td>\n",
              "      <td>0.196429</td>\n",
              "      <td>0.000</td>\n",
              "      <td>0.641810</td>\n",
              "    </tr>\n",
              "    <tr>\n",
              "      <th>x_15</th>\n",
              "      <td>0.156929</td>\n",
              "      <td>0.004357</td>\n",
              "      <td>0.196429</td>\n",
              "      <td>0.000</td>\n",
              "      <td>0.357714</td>\n",
              "    </tr>\n",
              "    <tr>\n",
              "      <th>x_16</th>\n",
              "      <td>0.603571</td>\n",
              "      <td>0.097262</td>\n",
              "      <td>0.000000</td>\n",
              "      <td>0.000</td>\n",
              "      <td>0.700833</td>\n",
              "    </tr>\n",
              "    <tr>\n",
              "      <th>x_17</th>\n",
              "      <td>0.386286</td>\n",
              "      <td>0.058095</td>\n",
              "      <td>0.196429</td>\n",
              "      <td>0.000</td>\n",
              "      <td>0.640810</td>\n",
              "    </tr>\n",
              "    <tr>\n",
              "      <th>x_18</th>\n",
              "      <td>0.289714</td>\n",
              "      <td>0.008714</td>\n",
              "      <td>0.196429</td>\n",
              "      <td>0.000</td>\n",
              "      <td>0.494857</td>\n",
              "    </tr>\n",
              "    <tr>\n",
              "      <th>x_19</th>\n",
              "      <td>0.603571</td>\n",
              "      <td>0.095071</td>\n",
              "      <td>0.000000</td>\n",
              "      <td>0.000</td>\n",
              "      <td>0.698643</td>\n",
              "    </tr>\n",
              "    <tr>\n",
              "      <th>x_20</th>\n",
              "      <td>0.434571</td>\n",
              "      <td>0.031952</td>\n",
              "      <td>0.196429</td>\n",
              "      <td>0.000</td>\n",
              "      <td>0.662952</td>\n",
              "    </tr>\n",
              "    <tr>\n",
              "      <th>x_21</th>\n",
              "      <td>0.205214</td>\n",
              "      <td>0.036310</td>\n",
              "      <td>0.196429</td>\n",
              "      <td>0.000</td>\n",
              "      <td>0.437952</td>\n",
              "    </tr>\n",
              "    <tr>\n",
              "      <th>x_22</th>\n",
              "      <td>0.603571</td>\n",
              "      <td>0.090690</td>\n",
              "      <td>0.000000</td>\n",
              "      <td>0.000</td>\n",
              "      <td>0.694262</td>\n",
              "    </tr>\n",
              "    <tr>\n",
              "      <th>x_23</th>\n",
              "      <td>0.494929</td>\n",
              "      <td>0.034857</td>\n",
              "      <td>0.196429</td>\n",
              "      <td>0.000</td>\n",
              "      <td>0.726214</td>\n",
              "    </tr>\n",
              "    <tr>\n",
              "      <th>x_24</th>\n",
              "      <td>0.325929</td>\n",
              "      <td>0.004357</td>\n",
              "      <td>0.196429</td>\n",
              "      <td>0.000</td>\n",
              "      <td>0.526714</td>\n",
              "    </tr>\n",
              "    <tr>\n",
              "      <th>x_25</th>\n",
              "      <td>0.603571</td>\n",
              "      <td>0.100000</td>\n",
              "      <td>0.196429</td>\n",
              "      <td>0.000</td>\n",
              "      <td>0.900000</td>\n",
              "    </tr>\n",
              "    <tr>\n",
              "      <th>x_26</th>\n",
              "      <td>0.350071</td>\n",
              "      <td>0.036310</td>\n",
              "      <td>0.196429</td>\n",
              "      <td>0.000</td>\n",
              "      <td>0.582810</td>\n",
              "    </tr>\n",
              "    <tr>\n",
              "      <th>x_27</th>\n",
              "      <td>0.241429</td>\n",
              "      <td>0.008714</td>\n",
              "      <td>0.196429</td>\n",
              "      <td>0.000</td>\n",
              "      <td>0.446571</td>\n",
              "    </tr>\n",
              "  </tbody>\n",
              "</table>\n",
              "</div>"
            ],
            "text/plain": [
              "Kryteria       u_1       u_2       u_3    u_4         U\n",
              "Warianty                                               \n",
              "x_1       0.482857  0.096167  0.000000  0.000  0.579024\n",
              "x_2       0.410429  0.075357  0.176786  0.002  0.664571\n",
              "x_3       0.000000  0.065357  0.196429  0.000  0.261786\n",
              "x_4       0.603571  0.092881  0.000000  0.000  0.696452\n",
              "x_5       0.458714  0.058095  0.196429  0.000  0.713238\n",
              "x_6       0.265571  0.039214  0.196429  0.000  0.501214\n",
              "x_7       0.603571  0.094524  0.000000  0.000  0.698095\n",
              "x_8       0.434571  0.063905  0.196429  0.000  0.694905\n",
              "x_9       0.422500  0.043571  0.196429  0.000  0.662500\n",
              "x_10      0.603571  0.092333  0.000000  0.000  0.695905\n",
              "x_11      0.470786  0.074810  0.149286  0.002  0.696881\n",
              "x_12      0.313857  0.036310  0.196429  0.002  0.548595\n",
              "x_13      0.603571  0.098357  0.000000  0.000  0.701929\n",
              "x_14      0.374214  0.071167  0.196429  0.000  0.641810\n",
              "x_15      0.156929  0.004357  0.196429  0.000  0.357714\n",
              "x_16      0.603571  0.097262  0.000000  0.000  0.700833\n",
              "x_17      0.386286  0.058095  0.196429  0.000  0.640810\n",
              "x_18      0.289714  0.008714  0.196429  0.000  0.494857\n",
              "x_19      0.603571  0.095071  0.000000  0.000  0.698643\n",
              "x_20      0.434571  0.031952  0.196429  0.000  0.662952\n",
              "x_21      0.205214  0.036310  0.196429  0.000  0.437952\n",
              "x_22      0.603571  0.090690  0.000000  0.000  0.694262\n",
              "x_23      0.494929  0.034857  0.196429  0.000  0.726214\n",
              "x_24      0.325929  0.004357  0.196429  0.000  0.526714\n",
              "x_25      0.603571  0.100000  0.196429  0.000  0.900000\n",
              "x_26      0.350071  0.036310  0.196429  0.000  0.582810\n",
              "x_27      0.241429  0.008714  0.196429  0.000  0.446571"
            ]
          },
          "execution_count": 13,
          "metadata": {},
          "output_type": "execute_result"
        }
      ],
      "source": [
        "lu_values = []\n",
        "for i, l_utils in enumerate(local_utitlites):\n",
        "    lu_values.append([value(lu) for lu in l_utils] + [global_utilities[i].value()])\n",
        "df = pd.DataFrame(lu_values, columns=[f\"u_{i+1}\" for i in range(len(criterions))] + [\"U\"])\n",
        "df.index = [f\"x_{i+1}\" for i in range(len(data))]\n",
        "df.index.name = \"Warianty\"\n",
        "df.columns.name = \"Kryteria\"\n",
        "\n",
        "# pokaż tabelę z użytecznościami lokalnymi\n",
        "df"
      ]
    },
    {
      "cell_type": "markdown",
      "metadata": {
        "id": "eAL1sH2u60ic"
      },
      "source": [
        "#### Ranking wszystkich wariantów i ich użyteczności globalne"
      ]
    },
    {
      "cell_type": "code",
      "execution_count": 14,
      "metadata": {
        "id": "46A69WMg60ic",
        "outputId": "f97f51f4-cbbf-4ecb-ae8b-d2ba761c415f"
      },
      "outputs": [
        {
          "data": {
            "text/html": [
              "<div>\n",
              "<style scoped>\n",
              "    .dataframe tbody tr th:only-of-type {\n",
              "        vertical-align: middle;\n",
              "    }\n",
              "\n",
              "    .dataframe tbody tr th {\n",
              "        vertical-align: top;\n",
              "    }\n",
              "\n",
              "    .dataframe thead th {\n",
              "        text-align: right;\n",
              "    }\n",
              "</style>\n",
              "<table border=\"1\" class=\"dataframe\">\n",
              "  <thead>\n",
              "    <tr style=\"text-align: right;\">\n",
              "      <th></th>\n",
              "      <th>Wariant</th>\n",
              "      <th>Użyteczność</th>\n",
              "    </tr>\n",
              "    <tr>\n",
              "      <th>Miejsce</th>\n",
              "      <th></th>\n",
              "      <th></th>\n",
              "    </tr>\n",
              "  </thead>\n",
              "  <tbody>\n",
              "    <tr>\n",
              "      <th>1</th>\n",
              "      <td>24</td>\n",
              "      <td>0.900000</td>\n",
              "    </tr>\n",
              "    <tr>\n",
              "      <th>2</th>\n",
              "      <td>22</td>\n",
              "      <td>0.726214</td>\n",
              "    </tr>\n",
              "    <tr>\n",
              "      <th>3</th>\n",
              "      <td>4</td>\n",
              "      <td>0.713238</td>\n",
              "    </tr>\n",
              "    <tr>\n",
              "      <th>4</th>\n",
              "      <td>12</td>\n",
              "      <td>0.701929</td>\n",
              "    </tr>\n",
              "    <tr>\n",
              "      <th>5</th>\n",
              "      <td>15</td>\n",
              "      <td>0.700833</td>\n",
              "    </tr>\n",
              "    <tr>\n",
              "      <th>6</th>\n",
              "      <td>18</td>\n",
              "      <td>0.698643</td>\n",
              "    </tr>\n",
              "    <tr>\n",
              "      <th>7</th>\n",
              "      <td>6</td>\n",
              "      <td>0.698095</td>\n",
              "    </tr>\n",
              "    <tr>\n",
              "      <th>8</th>\n",
              "      <td>10</td>\n",
              "      <td>0.696881</td>\n",
              "    </tr>\n",
              "    <tr>\n",
              "      <th>9</th>\n",
              "      <td>3</td>\n",
              "      <td>0.696452</td>\n",
              "    </tr>\n",
              "    <tr>\n",
              "      <th>10</th>\n",
              "      <td>9</td>\n",
              "      <td>0.695905</td>\n",
              "    </tr>\n",
              "    <tr>\n",
              "      <th>11</th>\n",
              "      <td>7</td>\n",
              "      <td>0.694905</td>\n",
              "    </tr>\n",
              "    <tr>\n",
              "      <th>12</th>\n",
              "      <td>21</td>\n",
              "      <td>0.694262</td>\n",
              "    </tr>\n",
              "    <tr>\n",
              "      <th>13</th>\n",
              "      <td>1</td>\n",
              "      <td>0.664571</td>\n",
              "    </tr>\n",
              "    <tr>\n",
              "      <th>14</th>\n",
              "      <td>19</td>\n",
              "      <td>0.662952</td>\n",
              "    </tr>\n",
              "    <tr>\n",
              "      <th>15</th>\n",
              "      <td>8</td>\n",
              "      <td>0.662500</td>\n",
              "    </tr>\n",
              "    <tr>\n",
              "      <th>16</th>\n",
              "      <td>13</td>\n",
              "      <td>0.641810</td>\n",
              "    </tr>\n",
              "    <tr>\n",
              "      <th>17</th>\n",
              "      <td>16</td>\n",
              "      <td>0.640810</td>\n",
              "    </tr>\n",
              "    <tr>\n",
              "      <th>18</th>\n",
              "      <td>25</td>\n",
              "      <td>0.582810</td>\n",
              "    </tr>\n",
              "    <tr>\n",
              "      <th>19</th>\n",
              "      <td>0</td>\n",
              "      <td>0.579024</td>\n",
              "    </tr>\n",
              "    <tr>\n",
              "      <th>20</th>\n",
              "      <td>11</td>\n",
              "      <td>0.548595</td>\n",
              "    </tr>\n",
              "    <tr>\n",
              "      <th>21</th>\n",
              "      <td>23</td>\n",
              "      <td>0.526714</td>\n",
              "    </tr>\n",
              "    <tr>\n",
              "      <th>22</th>\n",
              "      <td>5</td>\n",
              "      <td>0.501214</td>\n",
              "    </tr>\n",
              "    <tr>\n",
              "      <th>23</th>\n",
              "      <td>17</td>\n",
              "      <td>0.494857</td>\n",
              "    </tr>\n",
              "    <tr>\n",
              "      <th>24</th>\n",
              "      <td>26</td>\n",
              "      <td>0.446571</td>\n",
              "    </tr>\n",
              "    <tr>\n",
              "      <th>25</th>\n",
              "      <td>20</td>\n",
              "      <td>0.437952</td>\n",
              "    </tr>\n",
              "    <tr>\n",
              "      <th>26</th>\n",
              "      <td>14</td>\n",
              "      <td>0.357714</td>\n",
              "    </tr>\n",
              "    <tr>\n",
              "      <th>27</th>\n",
              "      <td>2</td>\n",
              "      <td>0.261786</td>\n",
              "    </tr>\n",
              "  </tbody>\n",
              "</table>\n",
              "</div>"
            ],
            "text/plain": [
              "         Wariant  Użyteczność\n",
              "Miejsce                      \n",
              "1             24     0.900000\n",
              "2             22     0.726214\n",
              "3              4     0.713238\n",
              "4             12     0.701929\n",
              "5             15     0.700833\n",
              "6             18     0.698643\n",
              "7              6     0.698095\n",
              "8             10     0.696881\n",
              "9              3     0.696452\n",
              "10             9     0.695905\n",
              "11             7     0.694905\n",
              "12            21     0.694262\n",
              "13             1     0.664571\n",
              "14            19     0.662952\n",
              "15             8     0.662500\n",
              "16            13     0.641810\n",
              "17            16     0.640810\n",
              "18            25     0.582810\n",
              "19             0     0.579024\n",
              "20            11     0.548595\n",
              "21            23     0.526714\n",
              "22             5     0.501214\n",
              "23            17     0.494857\n",
              "24            26     0.446571\n",
              "25            20     0.437952\n",
              "26            14     0.357714\n",
              "27             2     0.261786"
            ]
          },
          "execution_count": 14,
          "metadata": {},
          "output_type": "execute_result"
        }
      ],
      "source": [
        "# globalne użyteczności wariantów\n",
        "gu = np.array([value(gu) for gu in global_utilities])\n",
        "# [::-1] - sortowanie malejąco\n",
        "sorted_indices = np.argsort(gu)[::-1] # posortowane indeksy wariantów według użyteczności globalnej\n",
        "places = np.zeros(len(gu)) # miejsca wariantów\n",
        "\n",
        "current_place = 1\n",
        "current_utility = float(\"inf\")\n",
        "for i, curr in enumerate(sorted_indices):\n",
        "    util = gu[curr]\n",
        "    if util != current_utility:\n",
        "        current_place = i + 1\n",
        "        current_utility = util\n",
        "    places[i] = current_place\n",
        "\n",
        "table = np.vstack((places, sorted_indices,  gu[sorted_indices]))\n",
        "\n",
        "df = pd.DataFrame(table.T, columns=[\"Miejsce\", \"Wariant\", \"Użyteczność\"]).astype({'Miejsce': 'int', 'Wariant': 'int', 'Użyteczność': 'float'})\n",
        "df.set_index(\"Miejsce\", inplace=True)\n",
        "\n",
        "df"
      ]
    },
    {
      "cell_type": "markdown",
      "metadata": {
        "id": "w5V-ZgZu60ic"
      },
      "source": [
        "#### Wykresy"
      ]
    },
    {
      "cell_type": "code",
      "execution_count": 15,
      "metadata": {
        "id": "_lal-Pse60ic",
        "outputId": "7cb7d82a-711d-4a02-d352-538b6fe088c2"
      },
      "outputs": [
        {
          "data": {
            "image/png": "[encoded data removed]",
            "text/plain": [
              "<Figure size 1200x800 with 4 Axes>"
            ]
          },
          "metadata": {},
          "output_type": "display_data"
        }
      ],
      "source": [
        "# wykres dla każdego kryterium\n",
        "# %matplotlib inline\n",
        "\n",
        "# po 2 wykresy na wiersz\n",
        "fig, axs = plt.subplots(2, 2, figsize=(12, 8))\n",
        "axs = axs.flatten()\n",
        "\n",
        "for i, u_b in enumerate(u_breakpoints):\n",
        "    criterion = criterions[i]\n",
        "    args = [bp for bp in breakpoints[i]]\n",
        "    values = [value(u_b[j]) for j in range(len(u_b))]\n",
        "    axs[i].plot(args, values, marker='o', linestyle='-', color='b', label=f\"$u(g_{criterion})$\")\n",
        "    axs[i].set_title(f\"Criterion {criterions[i]}\")\n",
        "    axs[i].set_xlabel(f\"$g_{{{criterion}}}$\")\n",
        "    axs[i].set_ylabel(f\"$u(g_{{{criterion}}})$\")\n",
        "    axs[i].set_xticks(args)\n",
        "    axs[i].grid(True)\n",
        "\n",
        "plt.tight_layout()\n",
        "plt.show()"
      ]
    },
    {
      "cell_type": "markdown",
      "metadata": {
        "id": "DMaSaiZQ60ic"
      },
      "source": [
        "### Podsumowanie\n",
        "\n",
        "Wyniki zgadzają się z informacją preferencyjną, znaleziono rozwązanie dopuszczale i $\\varepsilon^* > 0$ - rzeczywiście dla par wariantów. Warianty preferowane mają wyższą wartość użyteczności i są widocznie wyżej w rankingu niż warianty niepreferowane. Warianty nierozróżnialne z kolei różnią się od siebie o maksymalnie $\\varepsilon = 0.001$ (arbitralnie mała wartość - próg nierozróżnialności, nie mylić z funkcją celu) i są obok siebie w rankingu. Jednakże żadna z tych par nie ma tego samego miejsca - nie jest to niespodziewane, w końcu nie minimalizowaliśmy różnicy ich wartości i zastosowaliśmy próg nierozróżnialności $\\varepsilon$.\n",
        "\n",
        "Analizując przykładowe warianty niereferencyjne:\n",
        "\n",
        "- 3, 4, 5 - Różnią się jedynie planami finansowymi (kolejno $F_1, F_2, F_3$) Widać, że preferencja decydenta nie została zachowana częściowo, warianty są w rankingu w kolejności $4>3>5$, $F_2$ zostało wybrane ponad $F_1$. Jednak zbiór par warniantów referencyjnych był dosyć mały. Gdyby podać więcej wariantów referencyjnych, możliwe, że ranking odwzorowywał preferencje jeszcze lepiej.\n",
        "Bardzo dobrze jednak odwzorowano preferencję mówiącą o tym, że najmniej preferujemy plan finansowy $F_3$ - ostatnie 6 wariantów w rankingu go używa.\n",
        "- 3, 12, 21 - Różnią się jedynie planami przechowywania (kolejno $S_1, S_2, S_3$). Ich kolejność w rankingu to $12>3>21$, analogiczna sytuacja co powyżej. Dodatkowo jest to najpewniej skutkiem zerowej liczby par wariantów referencyjnych, w których przeważyłby jednynie plan przechowywania. Podobie jak wyżej, więcej wariantów referencyjnych (najlepiej przemyślanie wybranych by jak najlepiej pokazać preferencje decydenta) powinno poprawić sytuację.\n",
        "\n",
        "\\\n",
        "Najlepiej wypadła strategia wariantu 24 - $S_3, R_3, F_1$\\\n",
        "Najgorzej z kolei strategia wariantu 2 - $S_1, R_1, F_3$\n",
        "\n",
        "Wpływ kryterium 4 jest minimalny - tak mały jak pozwalają na to ograniczenia. Kryteria 2 oraz 3 wykazują widoczny wpływ na wynik, jednak to kryterium 1 ma największą rolę w stwierdzaniu rezultatu - maksymalna użyteczność aż 0.6."
      ]
    },
    {
      "cell_type": "markdown",
      "metadata": {
        "id": "Eh5SX6Ax60ic"
      },
      "source": [
        "# $\\text{UTA}^{\\text{GMS}}$\n",
        "W tej metodzie punkty przełamania stanowią wartości kryteriów wariantów. Przy jej pomocy można znajdywać relację możliwej preferencji oraz relację koniecznej preferencji poprzez dodawanie do problemu następujących ograniczeń:\n",
        "- do sprawdzenia relacji koniecznej preferencji wariantu $a$ nad $b$ sprawdzamy czy dodanie warunku\n",
        "$$U(b) \\ge U(a) + \\varepsilon$$\n",
        "generuje sprzeczność. Wtedy jesteśmy w stanie stwierdzić, że nie istnieje funkcja dla której wariant $b$ jest ściśle prefereowany nad $a$, więc relacja przeciwna $a$ preferowany nad $b$ zawsze zachodzi.\n",
        "- do sprawdzenia relacji możliwej preferencji wariantu $a$ nad $b$ sprawdzamy czy dodanie warunku\n",
        "$$U(a) \\ge U(b)$$\n",
        "zachodzi. Wtedy ta relacja jest możliwa dla co najmniej jednej funkcji."
      ]
    },
    {
      "cell_type": "code",
      "execution_count": 16,
      "metadata": {
        "id": "yYNoDdbD60id"
      },
      "outputs": [],
      "source": [
        "# punkty przełamania to w tym przypadku wartości kryteriów dla wariantów\n",
        "\n",
        "breakpoints = [[] for _ in range(len(criterions))] # lista punktów przełamania dla każdego kryterium\n",
        "\n",
        "for i, vals in enumerate(data):\n",
        "    for j in range(1, len(vals)):\n",
        "        breakpoints[j - 1].append(vals[j])\n",
        "\n",
        "# posortowane punkty przełamania bez powtórzeń - nie chcemy niepotrzebnie dodawać zmiennych i ograniczeń\n",
        "breakpoints_sorted = [sorted(set(b)) for b in breakpoints]\n",
        "\n",
        "# breakpoints_sorted"
      ]
    },
    {
      "cell_type": "code",
      "execution_count": 17,
      "metadata": {
        "id": "uc-bzJ9l60id"
      },
      "outputs": [],
      "source": [
        "# wykorzystuje funkcje pomocnicze z sekcji UTA\n",
        "\n",
        "prob = LpProblem(\"UTAGMS\", LpMaximize)\n",
        "epsilon = LpVariable(\"epsilon\", lowBound=None, upBound=None) # maksymalizowana zmienna\n",
        "\n",
        "u_a = None # tablica zmiennych u_i(a_i), gdzie a_i to najgorsza wartość kryterium i\n",
        "u_b = None # tablica zmiennych u_i(b_i), gdzie b_i to najlepsza wartość kryterium i\n",
        "u_breakpoints = None # macierz ixj zmienne u_i(x_i^j), gdzie x_i^j to wartość j-tego wariantu dla kryterium i\n",
        "# u_breakpoints_sorted = None # macierz ixj zmienne u_i(x_i^j), gdzie x_i^j to wartość j-tego wariantu dla kryterium i, gdzie warianty są uporządkowane wg. użyteczności na kryterium\n",
        "global_utilities = None # tablica użyteczności globalnych dla każdego wariantu\n",
        "local_utitlites = None # macierz ixj użyteczności lokalnych dla każdego wariantu i oraz kryterium j\n",
        "\n",
        "# funkcja celu\n",
        "prob += epsilon, \"Maximize_epsilon\" # maksymalizowana zmienna epsilon + suma najgorszych użyteczności\n",
        "\n",
        "# ograniczenia monotoniczności\n",
        "prob, u_breakpoints, _, _ = add_monotonicity_constraints(prob, breakpoints_sorted)\n",
        "\n",
        "u_a_vals = [min_values[i] if criterion_directions[i] == \"gain\" else max_values[i] for i in range(len(criterions))]\n",
        "u_b_vals = [max_values[i] if criterion_directions[i] == \"gain\" else min_values[i] for i in range(len(criterions))]\n",
        "\n",
        "u_a = []\n",
        "u_b = []\n",
        "for i in range(len(criterions)):\n",
        "    ua = LpVariable(name=f\"u_a_{i+1}\")\n",
        "    ub = LpVariable(name=f\"u_b_{i+1}\")\n",
        "    u_a.append(ua)\n",
        "    u_b.append(ub)\n",
        "\n",
        "# ograniczenia normalizacji\n",
        "prob = add_normalization_constraints(prob, u_a, u_b)\n",
        "\n",
        "# ograniczenia na użyteczność wariantów(breakpointów) na kryteriach - między największą możliwą, a najmniejszą możliwą użytecznością na kryterium\n",
        "for i, u_bp in enumerate(u_breakpoints):\n",
        "    for bp in u_bp:\n",
        "        prob += bp >= u_a[i], f\"{bp.name}>=u_a_{i+1}\"\n",
        "        prob += bp <= u_b[i], f\"{bp.name}<=u_b_{i+1}\"\n",
        "\n",
        "# ograniczenia wynikające z preferencji decydenta\n",
        "\n",
        "# ograniczenia preferencji\n",
        "prob, global_utilities, local_utitlites = vars_utilities(prob, u_breakpoints, breakpoints_sorted) # zmienne globalnych użyteczności dla każdego wariantu\n",
        "for i, (x, y) in enumerate(pref_variants):\n",
        "    prob += global_utilities[x] >= global_utilities[y] + epsilon, f\"Preference_{x+1}_over{y+1}\" # x>y\n",
        "\n",
        "# ograniczenia nierozróżnialności\n",
        "for i, (x, y) in enumerate(indiff_variants):\n",
        "    # nie wiem czy == zadziała dobrze z epsilonem w pulpie, więc używam po prostu 2 relacje, przynajmniej widać co się dzieje\n",
        "    prob += global_utilities[x] - global_utilities[y] <= eps, f\"Indifference_{x+1}_over{y+1}_1\" # x~y\n",
        "    prob += global_utilities[x] - global_utilities[y] >= -eps, f\"Indifference_{y+1}_over{x+1}_2\" # y~x\n",
        "\n",
        "# ograniczenie wynikające z zadania\n",
        "for i, ub in enumerate(u_b):\n",
        "    prob += ub >= 0.1, f\"u_{i+1}_b>=0.1\"\n",
        "\n",
        "# prob\n"
      ]
    },
    {
      "cell_type": "markdown",
      "metadata": {
        "id": "H0TZZgCy60id"
      },
      "source": [
        "##### Sprawdzenie kompatybilności, wartość funkcji celu"
      ]
    },
    {
      "cell_type": "code",
      "execution_count": 18,
      "metadata": {
        "id": "Qk9k_VP860id",
        "outputId": "1419d13d-fa54-4f95-f19a-97a9e877180a"
      },
      "outputs": [
        {
          "name": "stdout",
          "output_type": "stream",
          "text": [
            "Status: Optimal\n",
            "\n",
            "Objective value: 0.75\n"
          ]
        }
      ],
      "source": [
        "prob.solve()\n",
        "\n",
        "# Print results\n",
        "print(f\"Status: {LpStatus[prob.status]}\")\n",
        "# print(\"\\nOptimal Solution:\")\n",
        "# for var in prob.variables():\n",
        "#     print(f\"{var.name} = {value(var)}\")\n",
        "\n",
        "print(\"\\nObjective value:\", value(prob.objective))"
      ]
    },
    {
      "cell_type": "markdown",
      "metadata": {
        "id": "M8ZNEnx_60ie"
      },
      "source": [
        "Problem jest rozwązywalny oraz $\\varepsilon^* > 0$. Istnieje model kompatybilny z preferencjami decydenta."
      ]
    },
    {
      "cell_type": "markdown",
      "metadata": {
        "id": "NrE1iMTf60ie"
      },
      "source": [
        "##### Znajdowanie relacji możliwych i koniecznych."
      ]
    },
    {
      "cell_type": "code",
      "execution_count": 19,
      "metadata": {
        "id": "6S2Fq7IZ60ie"
      },
      "outputs": [],
      "source": [
        "# relacje w formie (a, b) -> a>b\n",
        "necessary_relations = []\n",
        "possible_relations = []\n",
        "\n",
        "# znajdowanie relacji koniecznych - brute force\n",
        "for a in range(len(data)):\n",
        "    for b in range(a+1, len(data)):\n",
        "        dummy_prob = prob.copy()\n",
        "        # sprawdzanie czy jest w stanie zajść relacja b>a - jeśli nie to znaczy, że prawdziwa jest relacja konieczna a>=b\n",
        "        dummy_prob += global_utilities[b] >= global_utilities[a] + epsilon, f\"Dummy_utility_{b+1}_over{a+1}\"\n",
        "        dummy_prob.solve()\n",
        "        if LpStatus[dummy_prob.status] == \"Infeasible\" or value(epsilon) <= 0:\n",
        "            necessary_relations.append((a, b))\n",
        "        # relacja w drugą stronę\n",
        "        dummy_prob = prob.copy()\n",
        "        dummy_prob += global_utilities[a] >= global_utilities[b] + epsilon, f\"Dummy_utility_{a+1}_over{b+1}\"\n",
        "        dummy_prob.solve()\n",
        "        if LpStatus[dummy_prob.status] == \"Infeasible\" or value(epsilon) <= 0:\n",
        "            necessary_relations.append((b, a))\n",
        "\n",
        "# znajdowanie relacji możliwych - brute force, bezwarunkowe dodanie gdy występuje relacja konieczna\n",
        "for a in range(len(data)):\n",
        "    for b in range(len(data)):\n",
        "        if a == b:\n",
        "            continue\n",
        "        dummy_prob = prob.copy()\n",
        "        # konieczność implikuje możliwość\n",
        "        if (a, b) in necessary_relations:\n",
        "            possible_relations.append((a, b))\n",
        "            continue\n",
        "        # sprawdzanie czy jest w stanie zajść relacja a>=b - jeśli tak to znaczy, że prawdziwa jest relacja możliwa a>=b\n",
        "        dummy_prob += global_utilities[a] >= global_utilities[b], f\"Dummy_utility_{a+1}_over{b+1}\"\n",
        "        dummy_prob.solve()\n",
        "        if LpStatus[dummy_prob.status] != \"Infeasible\" and value(epsilon) >= 0:\n",
        "            possible_relations.append((a, b))"
      ]
    },
    {
      "cell_type": "markdown",
      "metadata": {
        "id": "OqmPwPxo60ie"
      },
      "source": [
        "##### Liczba znalezionych relacji koniecznych i możliwych"
      ]
    },
    {
      "cell_type": "code",
      "execution_count": 20,
      "metadata": {
        "id": "IESCvuRm60ie",
        "outputId": "f37045ea-9d09-49a9-91ca-cb4b63fbd944"
      },
      "outputs": [
        {
          "name": "stdout",
          "output_type": "stream",
          "text": [
            "nr necessary relations: 7 nr possible relations: 702\n",
            "maximum possible relations: 702\n"
          ]
        }
      ],
      "source": [
        "print(f\"nr necessary relations: {len(necessary_relations)} nr possible relations: {len(possible_relations)}\")\n",
        "print(f\"maximum possible relations: {len(data)**2 - len(data)}\")"
      ]
    },
    {
      "cell_type": "markdown",
      "metadata": {
        "id": "tLQab07660ie"
      },
      "source": [
        "##### Relacja konieczne"
      ]
    },
    {
      "cell_type": "code",
      "execution_count": 21,
      "metadata": {
        "id": "OugujUO660if",
        "outputId": "dce9a6dc-76e7-4c98-f19b-f95542c3b211"
      },
      "outputs": [
        {
          "data": {
            "text/plain": [
              "[(6, 23), (18, 11), (11, 20), (17, 14), (25, 14), (17, 26), (18, 20)]"
            ]
          },
          "execution_count": 21,
          "metadata": {},
          "output_type": "execute_result"
        }
      ],
      "source": [
        "necessary_relations"
      ]
    },
    {
      "cell_type": "markdown",
      "metadata": {
        "id": "HptdM8HV60if"
      },
      "source": [
        "Wszystkie pary wariantów dla których określono preferencje jednego nad drugim znajdują się również w relacjach koniecznych preferencji z tym samym kierunkiem preferencji. Między parami dla których określono, że są nie porównywalne nie zachodzą relacje konieczne preferencji.\n",
        "\n",
        "Relacje możliwe preferencji zachodzą dla każdej pary wariantów, zatem przestrzeń dopuszczalnych funkcji użyteczności jest dość spora. Zapewne relacje decydenta są zbyt ogólne, by jakaś relacja możliwa preferencji nie była osiągalna - potwierdza to również stosunkowo mała ilość relacji koniecznych."
      ]
    },
    {
      "cell_type": "markdown",
      "metadata": {
        "id": "JkkqMOPg60if"
      },
      "source": [
        "#### Rysowanie diagramu Hassego"
      ]
    },
    {
      "cell_type": "code",
      "execution_count": 22,
      "metadata": {
        "id": "0WJ-gqk-60ip"
      },
      "outputs": [],
      "source": [
        "num_variants = len(data) # liczba wariantów\n",
        "m_start = np.zeros((num_variants, num_variants), dtype=int) # macierz relacji koniecznych\n",
        "nr_no_transitive = [x for x in necessary_relations]\n",
        "\n",
        "for (a, b) in necessary_relations:\n",
        "    for r in necessary_relations:\n",
        "        if b == r[1] and (a, r[0]) in necessary_relations:\n",
        "            nr_no_transitive.remove((a, b))\n",
        "\n",
        "for a, b in nr_no_transitive:\n",
        "    m_start[a][b] = 1 # a>=Nb\n",
        "\n",
        "m = m_start.copy()\n",
        "\n",
        "groups = [] # grupy - wierzchołki (node-y) w grafie\n",
        "finished = [] # tablica do oznaczania zakończonych wariantów\n",
        "\n",
        "# szuka kolejno grup - niezdominowane warianty dla aktualnej iteracji, które mają takie same relacje w m_start\n",
        "# kolejne grupy będą nie wyżej w hierarchii niż poprzednie - dlatego w komórce niżej taki warunek sample_variants_to_group[a] < i\n",
        "while len(finished) < num_variants:\n",
        "    sum_col = np.sum(m, axis=0) # liczba wariantów które domunują wariant\n",
        "    non_dominated = np.where(sum_col == 0)[0] # warianty niedominowane\n",
        "    non_dominated = np.delete(non_dominated, np.where(np.isin(non_dominated, finished))[0]) # usunięcie zakończonych wariantów\n",
        "    if np.sum(non_dominated) == 0: # jeśli nie ma niedominowanych to koniec\n",
        "        break\n",
        "    while non_dominated.size > 0:\n",
        "        # dla każdego wariantu niedominowanego\n",
        "        curr_group = [non_dominated[0]]\n",
        "        # pierwszy wariant z grupy\n",
        "        j = non_dominated[0]\n",
        "        for i in range(1, len(non_dominated)):\n",
        "            # potencjalny wariant do grupy\n",
        "            k = non_dominated[i]\n",
        "            # jeśli k ma takie same relacje w m_start co j to dodaj do grupy\n",
        "            if np.array_equal(m_start[k], m_start[j]) and np.array_equal(m_start[:, k], m_start[:, j]):\n",
        "                curr_group.append(k)\n",
        "        for i in curr_group:\n",
        "            m[i,:] = 0\n",
        "            m[:,i] = 0\n",
        "            finished.append(i)\n",
        "        non_dominated = np.delete(non_dominated, np.where(np.isin(non_dominated, curr_group))[0])\n",
        "        groups.append(curr_group)\n",
        "\n",
        "sample_variants_to_group = {}\n",
        "for i, group in enumerate(groups):\n",
        "    sample_variants_to_group[group[0]] = i"
      ]
    },
    {
      "cell_type": "code",
      "execution_count": 23,
      "metadata": {
        "id": "NdgG3vrv60ip",
        "outputId": "93a09e89-bc0d-4d96-d52d-96a2c0554a3c"
      },
      "outputs": [
        {
          "data": {
            "text/plain": [
              "'hasse_diagram.png'"
            ]
          },
          "execution_count": 23,
          "metadata": {},
          "output_type": "execute_result"
        }
      ],
      "source": [
        "from graphviz import Digraph\n",
        "\n",
        "# dla każdej grupy conkatenacja stringów z numerów wariantów jakie należą do grupy\n",
        "group_labels = []\n",
        "edges = []\n",
        "for i, group in enumerate(groups):\n",
        "    group_str = \" ~ \".join([f\"{x}\" for x in group])\n",
        "    group_labels.append(group_str)\n",
        "\n",
        "for i, group in enumerate(groups):\n",
        "    sample_variant = group[0]\n",
        "    for (a, b) in nr_no_transitive:\n",
        "        if sample_variant == b and a in sample_variants_to_group.keys() and sample_variants_to_group[a] < i:\n",
        "            second_group = sample_variants_to_group[a]\n",
        "            edges.append((group_labels[second_group], group_labels[i]))\n",
        "\n",
        "\n",
        "dot = Digraph(comment='Diagram Hassego', engine='dot')\n",
        "\n",
        "for label in group_labels:\n",
        "    dot.node(label)\n",
        "\n",
        "for edge in edges:\n",
        "    dot.edge(edge[0], edge[1])\n",
        "\n",
        "dot.render('hasse_diagram', format='png', cleanup=True)\n"
      ]
    },
    {
      "cell_type": "code",
      "execution_count": 24,
      "metadata": {
        "id": "dxvmwmb460ip",
        "outputId": "c563da84-6aae-4693-b3b2-3dfdac9d92e4"
      },
      "outputs": [
        {
          "data": {
            "image/png": "[encoded data removed]",
            "text/plain": [
              "<IPython.core.display.Image object>"
            ]
          },
          "execution_count": 24,
          "metadata": {},
          "output_type": "execute_result"
        }
      ],
      "source": [
        "from IPython.display import Image\n",
        "Image(filename='hasse_diagram.png')"
      ]
    },
    {
      "cell_type": "markdown",
      "metadata": {
        "id": "2fkuNa5f60iq"
      },
      "source": [
        "# Reprezentatywna funkcja użyteczności\n",
        "Do znalezienia reprezentatywnej funkcji użyteczności do metody UTA GMS należy dodać do problemu relacje konieczne i możliwe:\n",
        "- jeśli zachodzi relacja koniecznej preferencji wariantu $a$ nad $b$ dodajemy:\n",
        "$$U(a) \\ge U(b) + \\varepsilon$$\n",
        "- jeśli nie zachodzi relacja konieczna w żadną stronę:\n",
        "$$U(a) - U(b)\\le  \\delta$$\n",
        "$$U(b) - U(a)\\le  \\delta$$\n",
        "gdzie $\\delta$ jest minimalizowana\n",
        "- do zbioru ograniczeń należy także dodać $\\varepsilon = \\varepsilon^*$"
      ]
    },
    {
      "cell_type": "code",
      "execution_count": 25,
      "metadata": {
        "id": "ObLzJzFC60iq",
        "outputId": "f4ce0bee-9190-4fd4-af0d-587bb9a0c710"
      },
      "outputs": [
        {
          "name": "stderr",
          "output_type": "stream",
          "text": [
            "c:\\Users\\jkond\\Desktop\\studia\\ISWD\\pulp\\lib\\site-packages\\pulp\\pulp.py:1787: UserWarning: Overwriting previously set objective.\n",
            "  warnings.warn(\"Overwriting previously set objective.\")\n"
          ]
        }
      ],
      "source": [
        "# Znajdowanie reprezentatywnej funkcji użyteczności\n",
        "\n",
        "eps_opt = value(epsilon) # optymalna wartość epsilon z UTAGMS\n",
        "prob_cpy = prob.copy() # problem utagms\n",
        "delta = LpVariable(\"delta\", lowBound=None, upBound=None) # zmienna do minimalizacji\n",
        "\n",
        "# rozpatrujemy relacje konieczne\n",
        "# dodajemy do zbioru ograniczeń jeśli (a, b) zachodzi ale nie (b, a): U(a) >= U(b) + epsilon\n",
        "# dodajemy do zbioru ograniczeń jeśli nie zachodzi ani (a, b) ani (b, a): U(a) - U(b) <= delta oraz U(b) - U(a) <= delta\n",
        "for a in range(len(data)):\n",
        "    for b in range(a+1, len(data)):\n",
        "        if (a, b) in necessary_relations and (b, a) not in necessary_relations: # tylko (a, b) zachodzi koniecznie\n",
        "            prob_cpy += global_utilities[a] >= global_utilities[b] + epsilon, f\"Necessary_relation_{a+1}_over{b+1}\"\n",
        "        elif (b, a) in necessary_relations and (a, b) not in necessary_relations: # tylko (b, a) zachodzi koniecznie\n",
        "            prob_cpy += global_utilities[b] >= global_utilities[a] + epsilon, f\"Necessary_relation_{b+1}_over{a+1}\"\n",
        "        elif (a, b) not in necessary_relations and (b, a) not in necessary_relations: # ani (a, b) ani (b, a) nie zachodzi koniecznie\n",
        "            prob_cpy += global_utilities[a] - global_utilities[b] <= delta, f\"NoNecessary_{a+1}_over{b+1}_1\"\n",
        "            prob_cpy += global_utilities[b] - global_utilities[a] <= delta, f\"NoNecessary_{b+1}_over{a+1}_2\"\n",
        "\n",
        "# minimalizujemy deltę - nadpisanie f. celu\n",
        "prob_cpy += delta, \"Minimize_delta\"\n",
        "prob_cpy.sense = LpMinimize\n",
        "\n",
        "# epsilon równy optymalnej wartości epsilon z UTAGMS\n",
        "prob_cpy += epsilon == eps_opt, \"Epsilon_UTAGMS\"\n",
        "# prob_cpy"
      ]
    },
    {
      "cell_type": "markdown",
      "metadata": {
        "id": "5lyFV4cW60iq"
      },
      "source": [
        "#### Wartość funkcji celu"
      ]
    },
    {
      "cell_type": "code",
      "execution_count": 26,
      "metadata": {
        "id": "lYP1MUh660iq",
        "outputId": "b4b09ed1-2008-4d35-81b1-c5b3ab09bfad"
      },
      "outputs": [
        {
          "name": "stdout",
          "output_type": "stream",
          "text": [
            "Status: Optimal\n",
            "\n",
            "Objective value: 0.78787879\n"
          ]
        }
      ],
      "source": [
        "prob_cpy.solve()\n",
        "\n",
        "# Print results\n",
        "print(f\"Status: {LpStatus[prob_cpy.status]}\")\n",
        "# print(\"\\nOptimal Solution:\")\n",
        "# for var in prob.variables():\n",
        "#     print(f\"{var.name} = {value(var)}\")\n",
        "print(\"\\nObjective value:\", value(prob_cpy.objective))\n"
      ]
    },
    {
      "cell_type": "markdown",
      "metadata": {
        "id": "hcJai3-S60iq"
      },
      "source": [
        "#### Użyteczności cząstkowe i globalne wszystkich wariantów"
      ]
    },
    {
      "cell_type": "code",
      "execution_count": 27,
      "metadata": {
        "id": "YKBa-ntr60ir"
      },
      "outputs": [],
      "source": [
        "# importy do wykresów\n",
        "import pandas as pd # wyświetlanie wyników w formie tabeli"
      ]
    },
    {
      "cell_type": "code",
      "execution_count": 28,
      "metadata": {
        "id": "jFlgi0cP60ir",
        "outputId": "0a12c411-d5bc-458d-fbdf-642075a5e5e4"
      },
      "outputs": [
        {
          "data": {
            "text/html": [
              "<div>\n",
              "<style scoped>\n",
              "    .dataframe tbody tr th:only-of-type {\n",
              "        vertical-align: middle;\n",
              "    }\n",
              "\n",
              "    .dataframe tbody tr th {\n",
              "        vertical-align: top;\n",
              "    }\n",
              "\n",
              "    .dataframe thead th {\n",
              "        text-align: right;\n",
              "    }\n",
              "</style>\n",
              "<table border=\"1\" class=\"dataframe\">\n",
              "  <thead>\n",
              "    <tr style=\"text-align: right;\">\n",
              "      <th>Kryteria</th>\n",
              "      <th>u_1</th>\n",
              "      <th>u_2</th>\n",
              "      <th>u_3</th>\n",
              "      <th>u_4</th>\n",
              "      <th>U</th>\n",
              "    </tr>\n",
              "    <tr>\n",
              "      <th>Warianty</th>\n",
              "      <th></th>\n",
              "      <th></th>\n",
              "      <th></th>\n",
              "      <th></th>\n",
              "      <th></th>\n",
              "    </tr>\n",
              "  </thead>\n",
              "  <tbody>\n",
              "    <tr>\n",
              "      <th>x_1</th>\n",
              "      <td>0.400000</td>\n",
              "      <td>0.100000</td>\n",
              "      <td>0.000000</td>\n",
              "      <td>0.075758</td>\n",
              "      <td>0.575758</td>\n",
              "    </tr>\n",
              "    <tr>\n",
              "      <th>x_2</th>\n",
              "      <td>0.400000</td>\n",
              "      <td>0.023242</td>\n",
              "      <td>0.000000</td>\n",
              "      <td>0.100000</td>\n",
              "      <td>0.523242</td>\n",
              "    </tr>\n",
              "    <tr>\n",
              "      <th>x_3</th>\n",
              "      <td>0.000000</td>\n",
              "      <td>0.000000</td>\n",
              "      <td>0.000000</td>\n",
              "      <td>0.100000</td>\n",
              "      <td>0.100000</td>\n",
              "    </tr>\n",
              "    <tr>\n",
              "      <th>x_4</th>\n",
              "      <td>0.400000</td>\n",
              "      <td>0.023242</td>\n",
              "      <td>0.000000</td>\n",
              "      <td>0.075758</td>\n",
              "      <td>0.499000</td>\n",
              "    </tr>\n",
              "    <tr>\n",
              "      <th>x_5</th>\n",
              "      <td>0.400000</td>\n",
              "      <td>0.000000</td>\n",
              "      <td>0.000000</td>\n",
              "      <td>0.100000</td>\n",
              "      <td>0.500000</td>\n",
              "    </tr>\n",
              "    <tr>\n",
              "      <th>x_6</th>\n",
              "      <td>0.000000</td>\n",
              "      <td>0.000000</td>\n",
              "      <td>0.000000</td>\n",
              "      <td>0.100000</td>\n",
              "      <td>0.100000</td>\n",
              "    </tr>\n",
              "    <tr>\n",
              "      <th>x_7</th>\n",
              "      <td>0.700000</td>\n",
              "      <td>0.087879</td>\n",
              "      <td>0.000000</td>\n",
              "      <td>0.075758</td>\n",
              "      <td>0.863636</td>\n",
              "    </tr>\n",
              "    <tr>\n",
              "      <th>x_8</th>\n",
              "      <td>0.400000</td>\n",
              "      <td>0.000000</td>\n",
              "      <td>0.000000</td>\n",
              "      <td>0.100000</td>\n",
              "      <td>0.500000</td>\n",
              "    </tr>\n",
              "    <tr>\n",
              "      <th>x_9</th>\n",
              "      <td>0.400000</td>\n",
              "      <td>0.000000</td>\n",
              "      <td>0.000000</td>\n",
              "      <td>0.100000</td>\n",
              "      <td>0.500000</td>\n",
              "    </tr>\n",
              "    <tr>\n",
              "      <th>x_10</th>\n",
              "      <td>0.400000</td>\n",
              "      <td>0.023242</td>\n",
              "      <td>0.000000</td>\n",
              "      <td>0.075758</td>\n",
              "      <td>0.499000</td>\n",
              "    </tr>\n",
              "    <tr>\n",
              "      <th>x_11</th>\n",
              "      <td>0.400000</td>\n",
              "      <td>0.023242</td>\n",
              "      <td>0.000000</td>\n",
              "      <td>0.100000</td>\n",
              "      <td>0.523242</td>\n",
              "    </tr>\n",
              "    <tr>\n",
              "      <th>x_12</th>\n",
              "      <td>0.375758</td>\n",
              "      <td>0.000000</td>\n",
              "      <td>0.000000</td>\n",
              "      <td>0.100000</td>\n",
              "      <td>0.475758</td>\n",
              "    </tr>\n",
              "    <tr>\n",
              "      <th>x_13</th>\n",
              "      <td>0.400000</td>\n",
              "      <td>0.100000</td>\n",
              "      <td>0.000000</td>\n",
              "      <td>0.075758</td>\n",
              "      <td>0.575758</td>\n",
              "    </tr>\n",
              "    <tr>\n",
              "      <th>x_14</th>\n",
              "      <td>0.400000</td>\n",
              "      <td>0.023242</td>\n",
              "      <td>0.000000</td>\n",
              "      <td>0.075758</td>\n",
              "      <td>0.499000</td>\n",
              "    </tr>\n",
              "    <tr>\n",
              "      <th>x_15</th>\n",
              "      <td>0.000000</td>\n",
              "      <td>0.000000</td>\n",
              "      <td>0.012121</td>\n",
              "      <td>0.075758</td>\n",
              "      <td>0.087879</td>\n",
              "    </tr>\n",
              "    <tr>\n",
              "      <th>x_16</th>\n",
              "      <td>0.400000</td>\n",
              "      <td>0.100000</td>\n",
              "      <td>0.000000</td>\n",
              "      <td>0.075758</td>\n",
              "      <td>0.575758</td>\n",
              "    </tr>\n",
              "    <tr>\n",
              "      <th>x_17</th>\n",
              "      <td>0.400000</td>\n",
              "      <td>0.000000</td>\n",
              "      <td>0.000000</td>\n",
              "      <td>0.100000</td>\n",
              "      <td>0.500000</td>\n",
              "    </tr>\n",
              "    <tr>\n",
              "      <th>x_18</th>\n",
              "      <td>0.375758</td>\n",
              "      <td>0.000000</td>\n",
              "      <td>0.012121</td>\n",
              "      <td>0.100000</td>\n",
              "      <td>0.487879</td>\n",
              "    </tr>\n",
              "    <tr>\n",
              "      <th>x_19</th>\n",
              "      <td>0.700000</td>\n",
              "      <td>0.100000</td>\n",
              "      <td>0.000000</td>\n",
              "      <td>0.075758</td>\n",
              "      <td>0.875758</td>\n",
              "    </tr>\n",
              "    <tr>\n",
              "      <th>x_20</th>\n",
              "      <td>0.400000</td>\n",
              "      <td>0.000000</td>\n",
              "      <td>0.000000</td>\n",
              "      <td>0.075758</td>\n",
              "      <td>0.475758</td>\n",
              "    </tr>\n",
              "    <tr>\n",
              "      <th>x_21</th>\n",
              "      <td>0.000000</td>\n",
              "      <td>0.000000</td>\n",
              "      <td>0.000000</td>\n",
              "      <td>0.075758</td>\n",
              "      <td>0.075758</td>\n",
              "    </tr>\n",
              "    <tr>\n",
              "      <th>x_22</th>\n",
              "      <td>0.700000</td>\n",
              "      <td>0.023242</td>\n",
              "      <td>0.000000</td>\n",
              "      <td>0.075758</td>\n",
              "      <td>0.799000</td>\n",
              "    </tr>\n",
              "    <tr>\n",
              "      <th>x_23</th>\n",
              "      <td>0.400000</td>\n",
              "      <td>0.000000</td>\n",
              "      <td>0.000000</td>\n",
              "      <td>0.075758</td>\n",
              "      <td>0.475758</td>\n",
              "    </tr>\n",
              "    <tr>\n",
              "      <th>x_24</th>\n",
              "      <td>0.375758</td>\n",
              "      <td>0.000000</td>\n",
              "      <td>0.012121</td>\n",
              "      <td>0.075758</td>\n",
              "      <td>0.463636</td>\n",
              "    </tr>\n",
              "    <tr>\n",
              "      <th>x_25</th>\n",
              "      <td>0.700000</td>\n",
              "      <td>0.100000</td>\n",
              "      <td>0.012121</td>\n",
              "      <td>0.051515</td>\n",
              "      <td>0.863636</td>\n",
              "    </tr>\n",
              "    <tr>\n",
              "      <th>x_26</th>\n",
              "      <td>0.400000</td>\n",
              "      <td>0.000000</td>\n",
              "      <td>0.012121</td>\n",
              "      <td>0.075758</td>\n",
              "      <td>0.487879</td>\n",
              "    </tr>\n",
              "    <tr>\n",
              "      <th>x_27</th>\n",
              "      <td>0.000000</td>\n",
              "      <td>0.000000</td>\n",
              "      <td>0.012121</td>\n",
              "      <td>0.075758</td>\n",
              "      <td>0.087879</td>\n",
              "    </tr>\n",
              "  </tbody>\n",
              "</table>\n",
              "</div>"
            ],
            "text/plain": [
              "Kryteria       u_1       u_2       u_3       u_4         U\n",
              "Warianty                                                  \n",
              "x_1       0.400000  0.100000  0.000000  0.075758  0.575758\n",
              "x_2       0.400000  0.023242  0.000000  0.100000  0.523242\n",
              "x_3       0.000000  0.000000  0.000000  0.100000  0.100000\n",
              "x_4       0.400000  0.023242  0.000000  0.075758  0.499000\n",
              "x_5       0.400000  0.000000  0.000000  0.100000  0.500000\n",
              "x_6       0.000000  0.000000  0.000000  0.100000  0.100000\n",
              "x_7       0.700000  0.087879  0.000000  0.075758  0.863636\n",
              "x_8       0.400000  0.000000  0.000000  0.100000  0.500000\n",
              "x_9       0.400000  0.000000  0.000000  0.100000  0.500000\n",
              "x_10      0.400000  0.023242  0.000000  0.075758  0.499000\n",
              "x_11      0.400000  0.023242  0.000000  0.100000  0.523242\n",
              "x_12      0.375758  0.000000  0.000000  0.100000  0.475758\n",
              "x_13      0.400000  0.100000  0.000000  0.075758  0.575758\n",
              "x_14      0.400000  0.023242  0.000000  0.075758  0.499000\n",
              "x_15      0.000000  0.000000  0.012121  0.075758  0.087879\n",
              "x_16      0.400000  0.100000  0.000000  0.075758  0.575758\n",
              "x_17      0.400000  0.000000  0.000000  0.100000  0.500000\n",
              "x_18      0.375758  0.000000  0.012121  0.100000  0.487879\n",
              "x_19      0.700000  0.100000  0.000000  0.075758  0.875758\n",
              "x_20      0.400000  0.000000  0.000000  0.075758  0.475758\n",
              "x_21      0.000000  0.000000  0.000000  0.075758  0.075758\n",
              "x_22      0.700000  0.023242  0.000000  0.075758  0.799000\n",
              "x_23      0.400000  0.000000  0.000000  0.075758  0.475758\n",
              "x_24      0.375758  0.000000  0.012121  0.075758  0.463636\n",
              "x_25      0.700000  0.100000  0.012121  0.051515  0.863636\n",
              "x_26      0.400000  0.000000  0.012121  0.075758  0.487879\n",
              "x_27      0.000000  0.000000  0.012121  0.075758  0.087879"
            ]
          },
          "execution_count": 28,
          "metadata": {},
          "output_type": "execute_result"
        }
      ],
      "source": [
        "lu_values = []\n",
        "for i, l_utils in enumerate(local_utitlites):\n",
        "    lu_values.append([value(lu) for lu in l_utils] + [global_utilities[i].value()])\n",
        "df = pd.DataFrame(lu_values, columns=[f\"u_{i+1}\" for i in range(len(criterions))] + [\"U\"])\n",
        "df.index = [f\"x_{i+1}\" for i in range(len(data))]\n",
        "df.index.name = \"Warianty\"\n",
        "df.columns.name = \"Kryteria\"\n",
        "\n",
        "# pokaż tabelę z użytecznościami lokalnymi\n",
        "df"
      ]
    },
    {
      "cell_type": "markdown",
      "metadata": {
        "id": "dLfa8F1760ir"
      },
      "source": [
        "#### Ranking wszystkich wariantów i ich użyteczności globalne"
      ]
    },
    {
      "cell_type": "code",
      "execution_count": 29,
      "metadata": {
        "id": "elzU0aTq60is",
        "outputId": "7267f367-1099-4e6d-da43-8efbe63369f4"
      },
      "outputs": [
        {
          "data": {
            "text/html": [
              "<div>\n",
              "<style scoped>\n",
              "    .dataframe tbody tr th:only-of-type {\n",
              "        vertical-align: middle;\n",
              "    }\n",
              "\n",
              "    .dataframe tbody tr th {\n",
              "        vertical-align: top;\n",
              "    }\n",
              "\n",
              "    .dataframe thead th {\n",
              "        text-align: right;\n",
              "    }\n",
              "</style>\n",
              "<table border=\"1\" class=\"dataframe\">\n",
              "  <thead>\n",
              "    <tr style=\"text-align: right;\">\n",
              "      <th></th>\n",
              "      <th>Wariant</th>\n",
              "      <th>Użyteczność</th>\n",
              "    </tr>\n",
              "    <tr>\n",
              "      <th>Miejsce</th>\n",
              "      <th></th>\n",
              "      <th></th>\n",
              "    </tr>\n",
              "  </thead>\n",
              "  <tbody>\n",
              "    <tr>\n",
              "      <th>1</th>\n",
              "      <td>18</td>\n",
              "      <td>0.875758</td>\n",
              "    </tr>\n",
              "    <tr>\n",
              "      <th>2</th>\n",
              "      <td>24</td>\n",
              "      <td>0.863636</td>\n",
              "    </tr>\n",
              "    <tr>\n",
              "      <th>2</th>\n",
              "      <td>6</td>\n",
              "      <td>0.863636</td>\n",
              "    </tr>\n",
              "    <tr>\n",
              "      <th>4</th>\n",
              "      <td>21</td>\n",
              "      <td>0.799000</td>\n",
              "    </tr>\n",
              "    <tr>\n",
              "      <th>5</th>\n",
              "      <td>12</td>\n",
              "      <td>0.575758</td>\n",
              "    </tr>\n",
              "    <tr>\n",
              "      <th>5</th>\n",
              "      <td>15</td>\n",
              "      <td>0.575758</td>\n",
              "    </tr>\n",
              "    <tr>\n",
              "      <th>5</th>\n",
              "      <td>0</td>\n",
              "      <td>0.575758</td>\n",
              "    </tr>\n",
              "    <tr>\n",
              "      <th>8</th>\n",
              "      <td>1</td>\n",
              "      <td>0.523242</td>\n",
              "    </tr>\n",
              "    <tr>\n",
              "      <th>8</th>\n",
              "      <td>10</td>\n",
              "      <td>0.523242</td>\n",
              "    </tr>\n",
              "    <tr>\n",
              "      <th>10</th>\n",
              "      <td>16</td>\n",
              "      <td>0.500000</td>\n",
              "    </tr>\n",
              "    <tr>\n",
              "      <th>10</th>\n",
              "      <td>7</td>\n",
              "      <td>0.500000</td>\n",
              "    </tr>\n",
              "    <tr>\n",
              "      <th>10</th>\n",
              "      <td>4</td>\n",
              "      <td>0.500000</td>\n",
              "    </tr>\n",
              "    <tr>\n",
              "      <th>10</th>\n",
              "      <td>8</td>\n",
              "      <td>0.500000</td>\n",
              "    </tr>\n",
              "    <tr>\n",
              "      <th>14</th>\n",
              "      <td>13</td>\n",
              "      <td>0.499000</td>\n",
              "    </tr>\n",
              "    <tr>\n",
              "      <th>14</th>\n",
              "      <td>3</td>\n",
              "      <td>0.499000</td>\n",
              "    </tr>\n",
              "    <tr>\n",
              "      <th>14</th>\n",
              "      <td>9</td>\n",
              "      <td>0.499000</td>\n",
              "    </tr>\n",
              "    <tr>\n",
              "      <th>17</th>\n",
              "      <td>25</td>\n",
              "      <td>0.487879</td>\n",
              "    </tr>\n",
              "    <tr>\n",
              "      <th>17</th>\n",
              "      <td>17</td>\n",
              "      <td>0.487879</td>\n",
              "    </tr>\n",
              "    <tr>\n",
              "      <th>19</th>\n",
              "      <td>22</td>\n",
              "      <td>0.475758</td>\n",
              "    </tr>\n",
              "    <tr>\n",
              "      <th>19</th>\n",
              "      <td>11</td>\n",
              "      <td>0.475758</td>\n",
              "    </tr>\n",
              "    <tr>\n",
              "      <th>19</th>\n",
              "      <td>19</td>\n",
              "      <td>0.475758</td>\n",
              "    </tr>\n",
              "    <tr>\n",
              "      <th>22</th>\n",
              "      <td>23</td>\n",
              "      <td>0.463636</td>\n",
              "    </tr>\n",
              "    <tr>\n",
              "      <th>23</th>\n",
              "      <td>5</td>\n",
              "      <td>0.100000</td>\n",
              "    </tr>\n",
              "    <tr>\n",
              "      <th>23</th>\n",
              "      <td>2</td>\n",
              "      <td>0.100000</td>\n",
              "    </tr>\n",
              "    <tr>\n",
              "      <th>25</th>\n",
              "      <td>26</td>\n",
              "      <td>0.087879</td>\n",
              "    </tr>\n",
              "    <tr>\n",
              "      <th>25</th>\n",
              "      <td>14</td>\n",
              "      <td>0.087879</td>\n",
              "    </tr>\n",
              "    <tr>\n",
              "      <th>27</th>\n",
              "      <td>20</td>\n",
              "      <td>0.075758</td>\n",
              "    </tr>\n",
              "  </tbody>\n",
              "</table>\n",
              "</div>"
            ],
            "text/plain": [
              "         Wariant  Użyteczność\n",
              "Miejsce                      \n",
              "1             18     0.875758\n",
              "2             24     0.863636\n",
              "2              6     0.863636\n",
              "4             21     0.799000\n",
              "5             12     0.575758\n",
              "5             15     0.575758\n",
              "5              0     0.575758\n",
              "8              1     0.523242\n",
              "8             10     0.523242\n",
              "10            16     0.500000\n",
              "10             7     0.500000\n",
              "10             4     0.500000\n",
              "10             8     0.500000\n",
              "14            13     0.499000\n",
              "14             3     0.499000\n",
              "14             9     0.499000\n",
              "17            25     0.487879\n",
              "17            17     0.487879\n",
              "19            22     0.475758\n",
              "19            11     0.475758\n",
              "19            19     0.475758\n",
              "22            23     0.463636\n",
              "23             5     0.100000\n",
              "23             2     0.100000\n",
              "25            26     0.087879\n",
              "25            14     0.087879\n",
              "27            20     0.075758"
            ]
          },
          "execution_count": 29,
          "metadata": {},
          "output_type": "execute_result"
        }
      ],
      "source": [
        "# globalne użyteczności wariantów\n",
        "gu = np.array([value(gu) for gu in global_utilities])\n",
        "# [::-1] - sortowanie malejąco\n",
        "sorted_indices = np.argsort(gu)[::-1] # posortowane indeksy wariantów według użyteczności globalnej\n",
        "places = np.zeros(len(gu)) # miejsca wariantów\n",
        "\n",
        "current_place = 1\n",
        "current_utility = float(\"inf\")\n",
        "for i, curr in enumerate(sorted_indices):\n",
        "    util = gu[curr]\n",
        "    if util != current_utility:\n",
        "        current_place = i + 1\n",
        "        current_utility = util\n",
        "    places[i] = current_place\n",
        "\n",
        "table = np.vstack((places, sorted_indices,  gu[sorted_indices]))\n",
        "\n",
        "df = pd.DataFrame(table.T, columns=[\"Miejsce\", \"Wariant\", \"Użyteczność\"]).astype({'Miejsce': 'int', 'Wariant': 'int', 'Użyteczność': 'float'})\n",
        "df.set_index(\"Miejsce\", inplace=True)\n",
        "\n",
        "df"
      ]
    },
    {
      "cell_type": "markdown",
      "metadata": {
        "id": "GXWg87IR60is"
      },
      "source": [
        "#### Wykresy"
      ]
    },
    {
      "cell_type": "code",
      "execution_count": 30,
      "metadata": {
        "id": "mRgpXTzT60is",
        "outputId": "1317fb98-d9ae-4acc-981b-51376a4771e1"
      },
      "outputs": [
        {
          "data": {
            "image/png": "[encoded data removed]",
            "text/plain": [
              "<Figure size 1200x800 with 4 Axes>"
            ]
          },
          "metadata": {},
          "output_type": "display_data"
        }
      ],
      "source": [
        "# wykres dla każdego kryterium\n",
        "# %matplotlib inline\n",
        "\n",
        "# po 2 wykresy na wiersz\n",
        "fig, axs = plt.subplots(2, 2, figsize=(12, 8))\n",
        "axs = axs.flatten()\n",
        "\n",
        "for i, ub in enumerate(u_breakpoints):\n",
        "    criterion = criterions[i]\n",
        "    args = [bp for bp in breakpoints_sorted[i]]\n",
        "\n",
        "    values = [value(ub[j]) for j in range(len(ub))]\n",
        "    max_val, min_val = value(u_b[i]), value(u_a[i])\n",
        "\n",
        "    # poprawka jeśli skala większa niż wartości wariantów na kryterium\n",
        "    if max_val not in values:\n",
        "        if criterion_directions[i] == \"gain\":\n",
        "            args = args + [max_values[i]]\n",
        "            values = values + [max_val]\n",
        "        if criterion_directions[i] == \"cost\":\n",
        "            args = [min_values[i]] + args\n",
        "            values = [max_val] + values\n",
        "    if min_val not in values:\n",
        "        if criterion_directions[i] == \"gain\":\n",
        "            args = [min_values[i]] + args\n",
        "            values = [min_val] + values\n",
        "        if criterion_directions[i] == \"cost\":\n",
        "            args = args + [max_values[i]]\n",
        "            values = values + [min_val]\n",
        "\n",
        "    axs[i].plot(args, values, marker='o', linestyle='-', color='b', label=f\"$u(g_{criterion})$\")\n",
        "    axs[i].set_title(f\"Criterion {criterions[i]}\")\n",
        "    axs[i].set_xlabel(f\"$g_{{{criterion}}}$\")\n",
        "    axs[i].set_ylabel(f\"$u(g_{{{criterion}}})$\")\n",
        "    axs[i].set_xticks(args)\n",
        "    axs[i].tick_params(axis='x', rotation=45)\n",
        "    axs[i].grid(True)\n",
        "\n",
        "plt.tight_layout()\n",
        "plt.show()"
      ]
    },
    {
      "cell_type": "markdown",
      "metadata": {
        "id": "C1c_MsXt60is"
      },
      "source": [
        "Wyniki podobne do wyników UTA, jeśli chodzi o ważność kryterium 1 - tu też ma największą wagę. Jednakże najmniejszy wpływ zdaje się mieć kryterium 3, które w UTA miało dwukrotnie większą wagę niż 2 i 4 - tutaj wszystkie mają 0.1, oraz większość wariantów ma na nim użyteczność 0.\n",
        "\n",
        "Dół rangingu dalej dominują warianty o planie finansowym $F_3$ (6 ostatnich). Lepiej odwzorowana została preferencja wariantów o planie finansowym $F_1$ - pierwsze 7 wariantów w rankingu ją posiada. Zmieniły się warianty najlepsze i najgorsze. Najlepsza 24 spadła na 2-gą pozycję, a najgorsza 2 wzniosła się na 4-te miejsce od końca. Na ich miejsce wskoczyły kolejno 18 i 20.\n",
        "\n",
        "Analizując przykładowe warianty niereferencyjne - takie same jak przy UTA:\n",
        "\n",
        "- 3, 4, 5 - Różnią się jedynie planami finansowymi (kolejno $F_1, F_2, F_3$). Taka sama sytuacja jak w UTA: preferencja decydenta nie została zachowana częściowo, warianty są w rankingu w kolejności $4>3>5$, $F_2$ zostało wybrane ponad $F_1$. Podanie więcej wariantów referencyjnych pomogłoby lepiej odwzorować preferencje decydenta.\n",
        "Bardzo dobrze jednak odwzorowano preferencję mówiącą o tym, że najmniej preferujemy plan finansowy $F_3$ - ostatnie 6 wariantów w rankingu go używa.\\\n",
        "- 3, 12, 21 - Różnią się jedynie planami przechowywania (kolejno $S_1, S_2, S_3$). Ich kolejność w rankingu to $21>12>3$. W porównaniu z UTA w któreym preferenacja decydenta została odwzorowana częściowo tutaj jest zupełnie odwrotna.\n",
        "\n",
        "Co ciekawe wartość delty jest bardzo wysoka - zapewne wysoka wartość epsilon wymusiła do preferowania wariantów o niskiej wartości kryterium 1, co z kolei sprawiło, że różnice na wariantach które mocno się różniły na tym kryterium, a 1 nie był preferowany nad drugi są tak wysokie. Choć niepokoić może wyższa wartość delty od epsilon.\n",
        "\n",
        "Ranking referencyjny zachowany. Napawać niepokojem może również dużo remisów - szczególnie w środku rankingu - ciężko określić które lepsze.\n",
        "\n",
        "3 z 4 kryteriów zdają się mieć w przybliżeniu 3-4 punkty przełamania funkcji liniowej - zatem zwykła UTA też byłaby w stanie je dość dobrze odwzorować."
      ]
    },
    {
      "cell_type": "code",
      "execution_count": null,
      "metadata": {
        "id": "Hwd2-GI3E76B"
      },
      "outputs": [],
      "source": []
    }
  ],
  "metadata": {
    "colab": {
      "provenance": []
    },
    "kernelspec": {
      "display_name": "pulp",
      "language": "python",
      "name": "python3"
    },
    "language_info": {
      "codemirror_mode": {
        "name": "ipython",
        "version": 3
      },
      "file_extension": ".py",
      "mimetype": "text/x-python",
      "name": "python",
      "nbconvert_exporter": "python",
      "pygments_lexer": "ipython3",
      "version": "3.10.6"
    }
  },
  "nbformat": 4,
  "nbformat_minor": 0
}
